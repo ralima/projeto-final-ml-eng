{
 "cells": [
  {
   "cell_type": "code",
   "execution_count": 212,
   "id": "dfb40e38-615d-4a25-8090-b0de9bd1271b",
   "metadata": {
    "tags": []
   },
   "outputs": [],
   "source": [
    "import os\n",
    "\n",
    "import pandas as pd\n",
    "import numpy as np\n",
    "\n",
    "import matplotlib.pyplot as plot\n",
    "import pycaret.classification as pycaret_classification\n",
    "\n",
    "import mlflow\n",
    "from mlflow.models.signature import infer_signature\n",
    "from mlflow.tracking import MlflowClient\n",
    "\n",
    "from sklearn.model_selection import train_test_split, validation_curve\n",
    "from sklearn.metrics import log_loss, f1_score, roc_curve\n",
    "\n"
   ]
  },
  {
   "cell_type": "markdown",
   "id": "0493d2de-7d6f-42a0-a2ef-a52af5345507",
   "metadata": {},
   "source": [
    "# Configurar o MLFLOW"
   ]
  },
  {
   "cell_type": "code",
   "execution_count": 166,
   "id": "4a622709-2d83-48a9-ab48-fdfa56be0e93",
   "metadata": {},
   "outputs": [
    {
     "data": {
      "text/plain": [
       "<Experiment: artifact_location='/Users/rafael/dev/workspaces/infnet/pos-ai/machine-learning-engeneering/projeto-final-ml-eng/code/mlruns/1', creation_time=1712428469138, experiment_id='1', last_update_time=1712428469138, lifecycle_stage='active', name='Lançamentos do Kobe Bryant', tags={}>"
      ]
     },
     "execution_count": 166,
     "metadata": {},
     "output_type": "execute_result"
    }
   ],
   "source": [
    "# Para usar o sqlite como repositorio\n",
    "mlflow.set_tracking_uri(\"sqlite:///mlruns.db\")\n",
    "\n",
    "experiment_name = 'Lançamentos do Kobe Bryant'\n",
    "experiment = mlflow.get_experiment_by_name(experiment_name)\n",
    "if experiment is None:\n",
    "    experiment_id = mlflow.create_experiment(experiment_name)\n",
    "    experiment = mlflow.get_experiment(experiment_id)\n",
    "experiment_id = experiment.experiment_id\n",
    "mlflow.set_experiment(experiment_name)"
   ]
  },
  {
   "cell_type": "markdown",
   "id": "a2d23fa4-5e4a-4dcf-b1ae-670d50c29252",
   "metadata": {},
   "source": [
    "# Preparação e análise do experimento"
   ]
  },
  {
   "cell_type": "markdown",
   "id": "bddb8c01-edaa-4965-8a78-fec173216a81",
   "metadata": {},
   "source": [
    "## Processa os dados de entrada"
   ]
  },
  {
   "cell_type": "code",
   "execution_count": 168,
   "id": "5d921e96-0466-4b97-866b-5e7a5ca1555a",
   "metadata": {
    "tags": []
   },
   "outputs": [],
   "source": [
    "# Essas são as colunas que serão usadas nos experimentos a seguir\n",
    "colunas = ['lat','lon','minutes_remaining', 'period', 'playoffs', 'shot_distance', 'shot_made_flag']\n",
    "colunas_sem_alvo = ['lat','lon','minutes_remaining', 'period', 'playoffs', 'shot_distance']\n",
    "coluna_alvo= 'shot_made_flag'\n",
    "\n",
    "percentual_treinamento = 0.8\n",
    "\n",
    "#Começa o experimento\n",
    "with mlflow.start_run(experiment_id=experiment_id, run_name = 'PreparacaoDados', nested=True):  \n",
    "    dataframe_dev = pd.read_parquet('../data/raw/dataset_kobe_dev.parquet')\n",
    "\n",
    "    # Remove as linhas com campos nulos e copia o dataframe resultante selecionando apenas as colunas importantes para o experimento.\n",
    "    dataframe_dev = dataframe_dev.dropna()\n",
    "    dataframe_dev = dataframe_dev[colunas].copy()\n",
    "\n",
    "    dataframe_dev.to_parquet('../data/processed/data_filtered.parquet')\n",
    "\n",
    "    xtrain, xtest, ytrain, ytest = train_test_split(dataframe_dev[colunas_sem_alvo], \n",
    "                                                    dataframe_dev[coluna_alvo], \n",
    "                                                    train_size=percentual_treinamento, \n",
    "                                                    stratify=dataframe_dev[coluna_alvo]\n",
    "                                                   )\n",
    "\n",
    "    xtrain[coluna_alvo] = ytrain\n",
    "    xtest[coluna_alvo] = ytest\n",
    "\n",
    "    # Exporta bases de treino e teste\n",
    "    xtrain.to_parquet('../data/processed/base_train.parquet')\n",
    "    xtest.to_parquet('../data/processed/base_test.parquet')\n",
    "    \n",
    "    mlflow.log_params({\n",
    "        'percentual_teste': 1-percentual_treinamento,\n",
    "        'colunas-selecionadas': colunas\n",
    "    })\n",
    "    mlflow.log_metrics({\n",
    "        'quantidade_linhas_treino': xtrain.shape[0],\n",
    "        'quantidade_linhas_teste': xtest.shape[0]\n",
    "    })\n",
    "    \n",
    "mlflow_run = mlflow.active_run()\n"
   ]
  },
  {
   "cell_type": "markdown",
   "id": "2f20a2d6-43a1-4e60-ba8e-454692262e38",
   "metadata": {},
   "source": [
    "## Configura o pycaret"
   ]
  },
  {
   "cell_type": "code",
   "execution_count": 170,
   "id": "e9b2e56e-5ec7-493f-89ae-a42bf3063b6a",
   "metadata": {
    "tags": []
   },
   "outputs": [
    {
     "data": {
      "text/html": [
       "<style type=\"text/css\">\n",
       "#T_fd6a9_row8_col1, #T_fd6a9_row12_col1 {\n",
       "  background-color: lightgreen;\n",
       "}\n",
       "</style>\n",
       "<table id=\"T_fd6a9\">\n",
       "  <thead>\n",
       "    <tr>\n",
       "      <th class=\"blank level0\" >&nbsp;</th>\n",
       "      <th id=\"T_fd6a9_level0_col0\" class=\"col_heading level0 col0\" >Description</th>\n",
       "      <th id=\"T_fd6a9_level0_col1\" class=\"col_heading level0 col1\" >Value</th>\n",
       "    </tr>\n",
       "  </thead>\n",
       "  <tbody>\n",
       "    <tr>\n",
       "      <th id=\"T_fd6a9_level0_row0\" class=\"row_heading level0 row0\" >0</th>\n",
       "      <td id=\"T_fd6a9_row0_col0\" class=\"data row0 col0\" >Session id</td>\n",
       "      <td id=\"T_fd6a9_row0_col1\" class=\"data row0 col1\" >908</td>\n",
       "    </tr>\n",
       "    <tr>\n",
       "      <th id=\"T_fd6a9_level0_row1\" class=\"row_heading level0 row1\" >1</th>\n",
       "      <td id=\"T_fd6a9_row1_col0\" class=\"data row1 col0\" >Target</td>\n",
       "      <td id=\"T_fd6a9_row1_col1\" class=\"data row1 col1\" >shot_made_flag</td>\n",
       "    </tr>\n",
       "    <tr>\n",
       "      <th id=\"T_fd6a9_level0_row2\" class=\"row_heading level0 row2\" >2</th>\n",
       "      <td id=\"T_fd6a9_row2_col0\" class=\"data row2 col0\" >Target type</td>\n",
       "      <td id=\"T_fd6a9_row2_col1\" class=\"data row2 col1\" >Binary</td>\n",
       "    </tr>\n",
       "    <tr>\n",
       "      <th id=\"T_fd6a9_level0_row3\" class=\"row_heading level0 row3\" >3</th>\n",
       "      <td id=\"T_fd6a9_row3_col0\" class=\"data row3 col0\" >Original data shape</td>\n",
       "      <td id=\"T_fd6a9_row3_col1\" class=\"data row3 col1\" >(20285, 7)</td>\n",
       "    </tr>\n",
       "    <tr>\n",
       "      <th id=\"T_fd6a9_level0_row4\" class=\"row_heading level0 row4\" >4</th>\n",
       "      <td id=\"T_fd6a9_row4_col0\" class=\"data row4 col0\" >Transformed data shape</td>\n",
       "      <td id=\"T_fd6a9_row4_col1\" class=\"data row4 col1\" >(20285, 7)</td>\n",
       "    </tr>\n",
       "    <tr>\n",
       "      <th id=\"T_fd6a9_level0_row5\" class=\"row_heading level0 row5\" >5</th>\n",
       "      <td id=\"T_fd6a9_row5_col0\" class=\"data row5 col0\" >Transformed train set shape</td>\n",
       "      <td id=\"T_fd6a9_row5_col1\" class=\"data row5 col1\" >(16228, 7)</td>\n",
       "    </tr>\n",
       "    <tr>\n",
       "      <th id=\"T_fd6a9_level0_row6\" class=\"row_heading level0 row6\" >6</th>\n",
       "      <td id=\"T_fd6a9_row6_col0\" class=\"data row6 col0\" >Transformed test set shape</td>\n",
       "      <td id=\"T_fd6a9_row6_col1\" class=\"data row6 col1\" >(4057, 7)</td>\n",
       "    </tr>\n",
       "    <tr>\n",
       "      <th id=\"T_fd6a9_level0_row7\" class=\"row_heading level0 row7\" >7</th>\n",
       "      <td id=\"T_fd6a9_row7_col0\" class=\"data row7 col0\" >Numeric features</td>\n",
       "      <td id=\"T_fd6a9_row7_col1\" class=\"data row7 col1\" >6</td>\n",
       "    </tr>\n",
       "    <tr>\n",
       "      <th id=\"T_fd6a9_level0_row8\" class=\"row_heading level0 row8\" >8</th>\n",
       "      <td id=\"T_fd6a9_row8_col0\" class=\"data row8 col0\" >Preprocess</td>\n",
       "      <td id=\"T_fd6a9_row8_col1\" class=\"data row8 col1\" >True</td>\n",
       "    </tr>\n",
       "    <tr>\n",
       "      <th id=\"T_fd6a9_level0_row9\" class=\"row_heading level0 row9\" >9</th>\n",
       "      <td id=\"T_fd6a9_row9_col0\" class=\"data row9 col0\" >Imputation type</td>\n",
       "      <td id=\"T_fd6a9_row9_col1\" class=\"data row9 col1\" >simple</td>\n",
       "    </tr>\n",
       "    <tr>\n",
       "      <th id=\"T_fd6a9_level0_row10\" class=\"row_heading level0 row10\" >10</th>\n",
       "      <td id=\"T_fd6a9_row10_col0\" class=\"data row10 col0\" >Numeric imputation</td>\n",
       "      <td id=\"T_fd6a9_row10_col1\" class=\"data row10 col1\" >mean</td>\n",
       "    </tr>\n",
       "    <tr>\n",
       "      <th id=\"T_fd6a9_level0_row11\" class=\"row_heading level0 row11\" >11</th>\n",
       "      <td id=\"T_fd6a9_row11_col0\" class=\"data row11 col0\" >Categorical imputation</td>\n",
       "      <td id=\"T_fd6a9_row11_col1\" class=\"data row11 col1\" >mode</td>\n",
       "    </tr>\n",
       "    <tr>\n",
       "      <th id=\"T_fd6a9_level0_row12\" class=\"row_heading level0 row12\" >12</th>\n",
       "      <td id=\"T_fd6a9_row12_col0\" class=\"data row12 col0\" >Normalize</td>\n",
       "      <td id=\"T_fd6a9_row12_col1\" class=\"data row12 col1\" >True</td>\n",
       "    </tr>\n",
       "    <tr>\n",
       "      <th id=\"T_fd6a9_level0_row13\" class=\"row_heading level0 row13\" >13</th>\n",
       "      <td id=\"T_fd6a9_row13_col0\" class=\"data row13 col0\" >Normalize method</td>\n",
       "      <td id=\"T_fd6a9_row13_col1\" class=\"data row13 col1\" >zscore</td>\n",
       "    </tr>\n",
       "    <tr>\n",
       "      <th id=\"T_fd6a9_level0_row14\" class=\"row_heading level0 row14\" >14</th>\n",
       "      <td id=\"T_fd6a9_row14_col0\" class=\"data row14 col0\" >Fold Generator</td>\n",
       "      <td id=\"T_fd6a9_row14_col1\" class=\"data row14 col1\" >StratifiedKFold</td>\n",
       "    </tr>\n",
       "    <tr>\n",
       "      <th id=\"T_fd6a9_level0_row15\" class=\"row_heading level0 row15\" >15</th>\n",
       "      <td id=\"T_fd6a9_row15_col0\" class=\"data row15 col0\" >Fold Number</td>\n",
       "      <td id=\"T_fd6a9_row15_col1\" class=\"data row15 col1\" >10</td>\n",
       "    </tr>\n",
       "    <tr>\n",
       "      <th id=\"T_fd6a9_level0_row16\" class=\"row_heading level0 row16\" >16</th>\n",
       "      <td id=\"T_fd6a9_row16_col0\" class=\"data row16 col0\" >CPU Jobs</td>\n",
       "      <td id=\"T_fd6a9_row16_col1\" class=\"data row16 col1\" >-1</td>\n",
       "    </tr>\n",
       "    <tr>\n",
       "      <th id=\"T_fd6a9_level0_row17\" class=\"row_heading level0 row17\" >17</th>\n",
       "      <td id=\"T_fd6a9_row17_col0\" class=\"data row17 col0\" >Use GPU</td>\n",
       "      <td id=\"T_fd6a9_row17_col1\" class=\"data row17 col1\" >False</td>\n",
       "    </tr>\n",
       "    <tr>\n",
       "      <th id=\"T_fd6a9_level0_row18\" class=\"row_heading level0 row18\" >18</th>\n",
       "      <td id=\"T_fd6a9_row18_col0\" class=\"data row18 col0\" >Log Experiment</td>\n",
       "      <td id=\"T_fd6a9_row18_col1\" class=\"data row18 col1\" >False</td>\n",
       "    </tr>\n",
       "    <tr>\n",
       "      <th id=\"T_fd6a9_level0_row19\" class=\"row_heading level0 row19\" >19</th>\n",
       "      <td id=\"T_fd6a9_row19_col0\" class=\"data row19 col0\" >Experiment Name</td>\n",
       "      <td id=\"T_fd6a9_row19_col1\" class=\"data row19 col1\" >clf-default-name</td>\n",
       "    </tr>\n",
       "    <tr>\n",
       "      <th id=\"T_fd6a9_level0_row20\" class=\"row_heading level0 row20\" >20</th>\n",
       "      <td id=\"T_fd6a9_row20_col0\" class=\"data row20 col0\" >USI</td>\n",
       "      <td id=\"T_fd6a9_row20_col1\" class=\"data row20 col1\" >1de4</td>\n",
       "    </tr>\n",
       "  </tbody>\n",
       "</table>\n"
      ],
      "text/plain": [
       "<pandas.io.formats.style.Styler at 0x7fe560ac0c10>"
      ]
     },
     "metadata": {},
     "output_type": "display_data"
    },
    {
     "data": {
      "text/html": [],
      "text/plain": [
       "<IPython.core.display.HTML object>"
      ]
     },
     "metadata": {},
     "output_type": "display_data"
    },
    {
     "data": {
      "text/html": [
       "<style type=\"text/css\">\n",
       "#T_fafac th {\n",
       "  text-align: left;\n",
       "}\n",
       "#T_fafac_row0_col0, #T_fafac_row0_col3, #T_fafac_row0_col5, #T_fafac_row1_col0, #T_fafac_row1_col1, #T_fafac_row1_col2, #T_fafac_row1_col4, #T_fafac_row1_col6, #T_fafac_row1_col7 {\n",
       "  text-align: left;\n",
       "}\n",
       "#T_fafac_row0_col1, #T_fafac_row0_col2, #T_fafac_row0_col4, #T_fafac_row0_col6, #T_fafac_row0_col7, #T_fafac_row1_col3, #T_fafac_row1_col5 {\n",
       "  text-align: left;\n",
       "  background-color: yellow;\n",
       "}\n",
       "#T_fafac_row0_col8 {\n",
       "  text-align: left;\n",
       "  background-color: yellow;\n",
       "  background-color: lightgrey;\n",
       "}\n",
       "#T_fafac_row1_col8 {\n",
       "  text-align: left;\n",
       "  background-color: lightgrey;\n",
       "}\n",
       "</style>\n",
       "<table id=\"T_fafac\">\n",
       "  <thead>\n",
       "    <tr>\n",
       "      <th class=\"blank level0\" >&nbsp;</th>\n",
       "      <th id=\"T_fafac_level0_col0\" class=\"col_heading level0 col0\" >Model</th>\n",
       "      <th id=\"T_fafac_level0_col1\" class=\"col_heading level0 col1\" >Accuracy</th>\n",
       "      <th id=\"T_fafac_level0_col2\" class=\"col_heading level0 col2\" >AUC</th>\n",
       "      <th id=\"T_fafac_level0_col3\" class=\"col_heading level0 col3\" >Recall</th>\n",
       "      <th id=\"T_fafac_level0_col4\" class=\"col_heading level0 col4\" >Prec.</th>\n",
       "      <th id=\"T_fafac_level0_col5\" class=\"col_heading level0 col5\" >F1</th>\n",
       "      <th id=\"T_fafac_level0_col6\" class=\"col_heading level0 col6\" >Kappa</th>\n",
       "      <th id=\"T_fafac_level0_col7\" class=\"col_heading level0 col7\" >MCC</th>\n",
       "      <th id=\"T_fafac_level0_col8\" class=\"col_heading level0 col8\" >TT (Sec)</th>\n",
       "    </tr>\n",
       "  </thead>\n",
       "  <tbody>\n",
       "    <tr>\n",
       "      <th id=\"T_fafac_level0_row0\" class=\"row_heading level0 row0\" >lr</th>\n",
       "      <td id=\"T_fafac_row0_col0\" class=\"data row0 col0\" >Logistic Regression</td>\n",
       "      <td id=\"T_fafac_row0_col1\" class=\"data row0 col1\" >0.5760</td>\n",
       "      <td id=\"T_fafac_row0_col2\" class=\"data row0 col2\" >0.5978</td>\n",
       "      <td id=\"T_fafac_row0_col3\" class=\"data row0 col3\" >0.4848</td>\n",
       "      <td id=\"T_fafac_row0_col4\" class=\"data row0 col4\" >0.5654</td>\n",
       "      <td id=\"T_fafac_row0_col5\" class=\"data row0 col5\" >0.5219</td>\n",
       "      <td id=\"T_fafac_row0_col6\" class=\"data row0 col6\" >0.1451</td>\n",
       "      <td id=\"T_fafac_row0_col7\" class=\"data row0 col7\" >0.1465</td>\n",
       "      <td id=\"T_fafac_row0_col8\" class=\"data row0 col8\" >0.0150</td>\n",
       "    </tr>\n",
       "    <tr>\n",
       "      <th id=\"T_fafac_level0_row1\" class=\"row_heading level0 row1\" >dt</th>\n",
       "      <td id=\"T_fafac_row1_col0\" class=\"data row1 col0\" >Decision Tree Classifier</td>\n",
       "      <td id=\"T_fafac_row1_col1\" class=\"data row1 col1\" >0.5394</td>\n",
       "      <td id=\"T_fafac_row1_col2\" class=\"data row1 col2\" >0.5208</td>\n",
       "      <td id=\"T_fafac_row1_col3\" class=\"data row1 col3\" >0.5750</td>\n",
       "      <td id=\"T_fafac_row1_col4\" class=\"data row1 col4\" >0.5158</td>\n",
       "      <td id=\"T_fafac_row1_col5\" class=\"data row1 col5\" >0.5437</td>\n",
       "      <td id=\"T_fafac_row1_col6\" class=\"data row1 col6\" >0.0814</td>\n",
       "      <td id=\"T_fafac_row1_col7\" class=\"data row1 col7\" >0.0820</td>\n",
       "      <td id=\"T_fafac_row1_col8\" class=\"data row1 col8\" >0.1640</td>\n",
       "    </tr>\n",
       "  </tbody>\n",
       "</table>\n"
      ],
      "text/plain": [
       "<pandas.io.formats.style.Styler at 0x7fe570dec640>"
      ]
     },
     "metadata": {},
     "output_type": "display_data"
    },
    {
     "data": {
      "text/html": [],
      "text/plain": [
       "<IPython.core.display.HTML object>"
      ]
     },
     "metadata": {},
     "output_type": "display_data"
    },
    {
     "data": {
      "text/plain": [
       "[LogisticRegression(C=1.0, class_weight=None, dual=False, fit_intercept=True,\n",
       "                    intercept_scaling=1, l1_ratio=None, max_iter=1000,\n",
       "                    multi_class='auto', n_jobs=None, penalty='l2',\n",
       "                    random_state=908, solver='lbfgs', tol=0.0001, verbose=0,\n",
       "                    warm_start=False),\n",
       " DecisionTreeClassifier(ccp_alpha=0.0, class_weight=None, criterion='gini',\n",
       "                        max_depth=None, max_features=None, max_leaf_nodes=None,\n",
       "                        min_impurity_decrease=0.0, min_samples_leaf=1,\n",
       "                        min_samples_split=2, min_weight_fraction_leaf=0.0,\n",
       "                        random_state=908, splitter='best')]"
      ]
     },
     "execution_count": 170,
     "metadata": {},
     "output_type": "execute_result"
    }
   ],
   "source": [
    "# configura pycaret\n",
    "experiment = pycaret_classification.setup(\n",
    "    data = xtrain, \n",
    "    target = coluna_alvo, \n",
    "    test_data = xtest, \n",
    "    normalize = True, \n",
    "    log_experiment = False\n",
    ")\n",
    "\n",
    "# Os modelos utilizados são regressão logística (lr) e árvore de decisão (dt)\n",
    "modelos_utilizados = ['lr', 'dt']\n",
    "\n",
    "list_models = experiment.compare_models(modelos_utilizados, n_select = 2)\n",
    "\n",
    "list_models"
   ]
  },
  {
   "cell_type": "code",
   "execution_count": 172,
   "id": "2f94d089-5eb1-4094-8859-6dc64c61f6d8",
   "metadata": {
    "tags": []
   },
   "outputs": [
    {
     "data": {
      "text/html": [],
      "text/plain": [
       "<IPython.core.display.HTML object>"
      ]
     },
     "metadata": {},
     "output_type": "display_data"
    }
   ],
   "source": [
    "# plot com a validation curve \"vc\" e salva a imagem\n",
    "experiment.plot_model(list_models[0], plot='vc', save = True)\n",
    "\n",
    "# Cria função para plotar a calidation curve especificando o parametro\n",
    "def plot_parameter_validation_curve(X, Y, param_name, grid_search,\n",
    "                                    model, model_name, scoring,\n",
    "                                    logx):\n",
    "    print('Parameter:', param_name)\n",
    "    print('GridSearch:', grid_search[param_name])\n",
    "    print('Scoring:', scoring)\n",
    "    plot.figure(figsize=(6,4))\n",
    "    train_scores, test_scores = validation_curve(model,\n",
    "                                                 X = X, \n",
    "                                                 y = Y, \n",
    "                                                 param_name=param_name, \n",
    "                                                 param_range= grid_search[param_name],\n",
    "                                                 scoring=scoring,\n",
    "                                                 cv=10,\n",
    "                                                 n_jobs=-1)\n",
    "    train_scores_mean = np.mean(train_scores, axis=1)\n",
    "    train_scores_std = np.std(train_scores, axis=1)\n",
    "    test_scores_mean = np.mean(test_scores, axis=1)\n",
    "    test_scores_std = np.std(test_scores, axis=1)\n",
    "    plot.title(\"Curva Validação Modelo \" + model_name)\n",
    "    plot.xlabel(param_name)\n",
    "    plot.ylabel(\"Score (\"+scoring+\")\")\n",
    "    if logx:\n",
    "        plot.semilogx(grid_search[param_name], train_scores_mean,'-o', label=\"Treino\",\n",
    "                     color=\"darkorange\", lw=2)\n",
    "        plot.semilogx(grid_search[param_name], test_scores_mean,'-o', label=\"Validação-Cruzada\",\n",
    "                     color=\"navy\", lw=2)\n",
    "    else:\n",
    "        plot.plot(grid_search[param_name], train_scores_mean,'-o', label=\"Treino\",\n",
    "                     color=\"darkorange\", lw=2)\n",
    "        plot.plot(grid_search[param_name], test_scores_mean,'-o', label=\"Validação-Cruzada\",\n",
    "                 color=\"navy\", lw=2)\n",
    "    plot.fill_between(grid_search[param_name], train_scores_mean - train_scores_std,\n",
    "                     train_scores_mean + train_scores_std, alpha=0.2,\n",
    "                     color=\"darkorange\", lw=2)\n",
    "    plot.fill_between(grid_search[param_name], test_scores_mean - test_scores_std,\n",
    "                     test_scores_mean + test_scores_std, alpha=0.2,\n",
    "                     color=\"navy\", lw=2)\n",
    "    plot.legend(loc='best')\n",
    "    plot.grid(True)\n",
    "    \n",
    "    image = plot.gcf()\n",
    "    image_name = 'validation_curve' + '_' + model_name + '_' + param_name + '.png'\n",
    "    image.savefig(image_name, dpi=100)\n",
    "    plot.show()\n",
    "    return image_name\n"
   ]
  },
  {
   "cell_type": "markdown",
   "id": "4de3d307-ec57-47ca-b940-9dd6394b57d3",
   "metadata": {},
   "source": [
    "## Registra regressão logistica"
   ]
  },
  {
   "cell_type": "code",
   "execution_count": 173,
   "id": "45d099af-5bf1-4322-8382-ded4122a0d4c",
   "metadata": {
    "tags": []
   },
   "outputs": [
    {
     "data": {
      "text/html": [
       "<style type=\"text/css\">\n",
       "</style>\n",
       "<table id=\"T_65c35\">\n",
       "  <thead>\n",
       "    <tr>\n",
       "      <th class=\"blank level0\" >&nbsp;</th>\n",
       "      <th id=\"T_65c35_level0_col0\" class=\"col_heading level0 col0\" >Model</th>\n",
       "      <th id=\"T_65c35_level0_col1\" class=\"col_heading level0 col1\" >Accuracy</th>\n",
       "      <th id=\"T_65c35_level0_col2\" class=\"col_heading level0 col2\" >AUC</th>\n",
       "      <th id=\"T_65c35_level0_col3\" class=\"col_heading level0 col3\" >Recall</th>\n",
       "      <th id=\"T_65c35_level0_col4\" class=\"col_heading level0 col4\" >Prec.</th>\n",
       "      <th id=\"T_65c35_level0_col5\" class=\"col_heading level0 col5\" >F1</th>\n",
       "      <th id=\"T_65c35_level0_col6\" class=\"col_heading level0 col6\" >Kappa</th>\n",
       "      <th id=\"T_65c35_level0_col7\" class=\"col_heading level0 col7\" >MCC</th>\n",
       "    </tr>\n",
       "  </thead>\n",
       "  <tbody>\n",
       "    <tr>\n",
       "      <th id=\"T_65c35_level0_row0\" class=\"row_heading level0 row0\" >0</th>\n",
       "      <td id=\"T_65c35_row0_col0\" class=\"data row0 col0\" >Logistic Regression</td>\n",
       "      <td id=\"T_65c35_row0_col1\" class=\"data row0 col1\" >0.5807</td>\n",
       "      <td id=\"T_65c35_row0_col2\" class=\"data row0 col2\" >0.6023</td>\n",
       "      <td id=\"T_65c35_row0_col3\" class=\"data row0 col3\" >0.4992</td>\n",
       "      <td id=\"T_65c35_row0_col4\" class=\"data row0 col4\" >0.5695</td>\n",
       "      <td id=\"T_65c35_row0_col5\" class=\"data row0 col5\" >0.5320</td>\n",
       "      <td id=\"T_65c35_row0_col6\" class=\"data row0 col6\" >0.1552</td>\n",
       "      <td id=\"T_65c35_row0_col7\" class=\"data row0 col7\" >0.1563</td>\n",
       "    </tr>\n",
       "  </tbody>\n",
       "</table>\n"
      ],
      "text/plain": [
       "<pandas.io.formats.style.Styler at 0x7fe560ac3f40>"
      ]
     },
     "metadata": {},
     "output_type": "display_data"
    }
   ],
   "source": [
    "yhat_test = experiment.predict_model(list_models[0])"
   ]
  },
  {
   "cell_type": "code",
   "execution_count": 176,
   "id": "d69bb0ed-2573-4e45-b0ae-bcf84a3899f0",
   "metadata": {
    "tags": []
   },
   "outputs": [
    {
     "name": "stdout",
     "output_type": "stream",
     "text": [
      "Parameter: C\n",
      "GridSearch: [0.001, 0.01, 0.1, 1, 10]\n",
      "Scoring: f1\n"
     ]
    },
    {
     "data": {
      "image/png": "[encoded data removed]",
      "text/plain": [
       "<Figure size 600x400 with 1 Axes>"
      ]
     },
     "metadata": {},
     "output_type": "display_data"
    }
   ],
   "source": [
    "image_name = plot_parameter_validation_curve(xtrain.drop(coluna_alvo, axis=1), ytrain, 'C', {'C': [0.001, 0.01, 0.1, 1, 10]}, list_models[0], 'Regressão Logística', 'f1', logx=True)\n",
    "\n",
    "mlflow.log_artifact(image_name, run_id=mlflow_run.info.run_id)\n",
    "\n",
    "os.remove(image_name)\n",
    "\n",
    "mlflow.log_metrics({\n",
    "'lr_log_loss': log_loss(yhat_test.shot_made_flag, yhat_test.prediction_label),\n",
    "'lr_f1': f1_score(yhat_test.shot_made_flag, yhat_test.prediction_label)\n",
    "})"
   ]
  },
  {
   "cell_type": "markdown",
   "id": "9b856b35-8aea-4581-b613-923e04cf238f",
   "metadata": {
    "tags": []
   },
   "source": [
    "# Registra árvore de decisão"
   ]
  },
  {
   "cell_type": "code",
   "execution_count": 178,
   "id": "5694aba0-0f24-4d11-849d-4ce54a81c99c",
   "metadata": {
    "tags": []
   },
   "outputs": [
    {
     "data": {
      "text/html": [
       "<style type=\"text/css\">\n",
       "</style>\n",
       "<table id=\"T_5d25a\">\n",
       "  <thead>\n",
       "    <tr>\n",
       "      <th class=\"blank level0\" >&nbsp;</th>\n",
       "      <th id=\"T_5d25a_level0_col0\" class=\"col_heading level0 col0\" >Model</th>\n",
       "      <th id=\"T_5d25a_level0_col1\" class=\"col_heading level0 col1\" >Accuracy</th>\n",
       "      <th id=\"T_5d25a_level0_col2\" class=\"col_heading level0 col2\" >AUC</th>\n",
       "      <th id=\"T_5d25a_level0_col3\" class=\"col_heading level0 col3\" >Recall</th>\n",
       "      <th id=\"T_5d25a_level0_col4\" class=\"col_heading level0 col4\" >Prec.</th>\n",
       "      <th id=\"T_5d25a_level0_col5\" class=\"col_heading level0 col5\" >F1</th>\n",
       "      <th id=\"T_5d25a_level0_col6\" class=\"col_heading level0 col6\" >Kappa</th>\n",
       "      <th id=\"T_5d25a_level0_col7\" class=\"col_heading level0 col7\" >MCC</th>\n",
       "    </tr>\n",
       "  </thead>\n",
       "  <tbody>\n",
       "    <tr>\n",
       "      <th id=\"T_5d25a_level0_row0\" class=\"row_heading level0 row0\" >0</th>\n",
       "      <td id=\"T_5d25a_row0_col0\" class=\"data row0 col0\" >Decision Tree Classifier</td>\n",
       "      <td id=\"T_5d25a_row0_col1\" class=\"data row0 col1\" >0.5386</td>\n",
       "      <td id=\"T_5d25a_row0_col2\" class=\"data row0 col2\" >0.5173</td>\n",
       "      <td id=\"T_5d25a_row0_col3\" class=\"data row0 col3\" >0.5932</td>\n",
       "      <td id=\"T_5d25a_row0_col4\" class=\"data row0 col4\" >0.5146</td>\n",
       "      <td id=\"T_5d25a_row0_col5\" class=\"data row0 col5\" >0.5511</td>\n",
       "      <td id=\"T_5d25a_row0_col6\" class=\"data row0 col6\" >0.0813</td>\n",
       "      <td id=\"T_5d25a_row0_col7\" class=\"data row0 col7\" >0.0822</td>\n",
       "    </tr>\n",
       "  </tbody>\n",
       "</table>\n"
      ],
      "text/plain": [
       "<pandas.io.formats.style.Styler at 0x7fe531459960>"
      ]
     },
     "metadata": {},
     "output_type": "display_data"
    }
   ],
   "source": [
    "yhat_test = experiment.predict_model(list_models[1])"
   ]
  },
  {
   "cell_type": "code",
   "execution_count": 180,
   "id": "5e10b857-91ac-4500-b2d7-ffed2f725786",
   "metadata": {
    "tags": []
   },
   "outputs": [
    {
     "name": "stdout",
     "output_type": "stream",
     "text": [
      "Parameter: max_depth\n",
      "GridSearch: [2, 3, 4, 5, 6, 7, 8]\n",
      "Scoring: f1\n"
     ]
    },
    {
     "data": {
      "image/png": "[encoded data removed]",
      "text/plain": [
       "<Figure size 600x400 with 1 Axes>"
      ]
     },
     "metadata": {},
     "output_type": "display_data"
    }
   ],
   "source": [
    "image_name = plot_parameter_validation_curve(xtrain.drop(coluna_alvo, axis=1), ytrain, 'max_depth', {'max_depth': [2, 3, 4, 5, 6, 7, 8]}, list_models[1], 'Árvore de decisão', 'f1', logx=False)\n",
    "\n",
    "mlflow.log_artifact(image_name)\n",
    "\n",
    "os.remove(image_name)\n",
    "\n",
    "mlflow.log_metrics({\n",
    "'dt_log_loss': log_loss(yhat_test.shot_made_flag, yhat_test.prediction_label),\n",
    "'dt_f1': f1_score(yhat_test.shot_made_flag, yhat_test.prediction_label)\n",
    "})"
   ]
  },
  {
   "cell_type": "markdown",
   "id": "a4a34cd4-9249-456e-ada2-8f531ce10f4d",
   "metadata": {},
   "source": [
    "# Treinamento do modelo"
   ]
  },
  {
   "cell_type": "code",
   "execution_count": 273,
   "id": "51625961-e62c-46c8-81ab-a3f5b4619b58",
   "metadata": {
    "tags": []
   },
   "outputs": [],
   "source": [
    "mlflow.end_run()"
   ]
  },
  {
   "cell_type": "code",
   "execution_count": 278,
   "id": "92a2fb87-0387-4679-bf50-d56fd3573c78",
   "metadata": {
    "tags": []
   },
   "outputs": [
    {
     "data": {
      "text/html": [
       "<style type=\"text/css\">\n",
       "#T_a6ad6_row8_col1, #T_a6ad6_row12_col1 {\n",
       "  background-color: lightgreen;\n",
       "}\n",
       "</style>\n",
       "<table id=\"T_a6ad6\">\n",
       "  <thead>\n",
       "    <tr>\n",
       "      <th class=\"blank level0\" >&nbsp;</th>\n",
       "      <th id=\"T_a6ad6_level0_col0\" class=\"col_heading level0 col0\" >Description</th>\n",
       "      <th id=\"T_a6ad6_level0_col1\" class=\"col_heading level0 col1\" >Value</th>\n",
       "    </tr>\n",
       "  </thead>\n",
       "  <tbody>\n",
       "    <tr>\n",
       "      <th id=\"T_a6ad6_level0_row0\" class=\"row_heading level0 row0\" >0</th>\n",
       "      <td id=\"T_a6ad6_row0_col0\" class=\"data row0 col0\" >Session id</td>\n",
       "      <td id=\"T_a6ad6_row0_col1\" class=\"data row0 col1\" >551</td>\n",
       "    </tr>\n",
       "    <tr>\n",
       "      <th id=\"T_a6ad6_level0_row1\" class=\"row_heading level0 row1\" >1</th>\n",
       "      <td id=\"T_a6ad6_row1_col0\" class=\"data row1 col0\" >Target</td>\n",
       "      <td id=\"T_a6ad6_row1_col1\" class=\"data row1 col1\" >shot_made_flag</td>\n",
       "    </tr>\n",
       "    <tr>\n",
       "      <th id=\"T_a6ad6_level0_row2\" class=\"row_heading level0 row2\" >2</th>\n",
       "      <td id=\"T_a6ad6_row2_col0\" class=\"data row2 col0\" >Target type</td>\n",
       "      <td id=\"T_a6ad6_row2_col1\" class=\"data row2 col1\" >Binary</td>\n",
       "    </tr>\n",
       "    <tr>\n",
       "      <th id=\"T_a6ad6_level0_row3\" class=\"row_heading level0 row3\" >3</th>\n",
       "      <td id=\"T_a6ad6_row3_col0\" class=\"data row3 col0\" >Original data shape</td>\n",
       "      <td id=\"T_a6ad6_row3_col1\" class=\"data row3 col1\" >(20285, 7)</td>\n",
       "    </tr>\n",
       "    <tr>\n",
       "      <th id=\"T_a6ad6_level0_row4\" class=\"row_heading level0 row4\" >4</th>\n",
       "      <td id=\"T_a6ad6_row4_col0\" class=\"data row4 col0\" >Transformed data shape</td>\n",
       "      <td id=\"T_a6ad6_row4_col1\" class=\"data row4 col1\" >(20285, 7)</td>\n",
       "    </tr>\n",
       "    <tr>\n",
       "      <th id=\"T_a6ad6_level0_row5\" class=\"row_heading level0 row5\" >5</th>\n",
       "      <td id=\"T_a6ad6_row5_col0\" class=\"data row5 col0\" >Transformed train set shape</td>\n",
       "      <td id=\"T_a6ad6_row5_col1\" class=\"data row5 col1\" >(16228, 7)</td>\n",
       "    </tr>\n",
       "    <tr>\n",
       "      <th id=\"T_a6ad6_level0_row6\" class=\"row_heading level0 row6\" >6</th>\n",
       "      <td id=\"T_a6ad6_row6_col0\" class=\"data row6 col0\" >Transformed test set shape</td>\n",
       "      <td id=\"T_a6ad6_row6_col1\" class=\"data row6 col1\" >(4057, 7)</td>\n",
       "    </tr>\n",
       "    <tr>\n",
       "      <th id=\"T_a6ad6_level0_row7\" class=\"row_heading level0 row7\" >7</th>\n",
       "      <td id=\"T_a6ad6_row7_col0\" class=\"data row7 col0\" >Numeric features</td>\n",
       "      <td id=\"T_a6ad6_row7_col1\" class=\"data row7 col1\" >6</td>\n",
       "    </tr>\n",
       "    <tr>\n",
       "      <th id=\"T_a6ad6_level0_row8\" class=\"row_heading level0 row8\" >8</th>\n",
       "      <td id=\"T_a6ad6_row8_col0\" class=\"data row8 col0\" >Preprocess</td>\n",
       "      <td id=\"T_a6ad6_row8_col1\" class=\"data row8 col1\" >True</td>\n",
       "    </tr>\n",
       "    <tr>\n",
       "      <th id=\"T_a6ad6_level0_row9\" class=\"row_heading level0 row9\" >9</th>\n",
       "      <td id=\"T_a6ad6_row9_col0\" class=\"data row9 col0\" >Imputation type</td>\n",
       "      <td id=\"T_a6ad6_row9_col1\" class=\"data row9 col1\" >simple</td>\n",
       "    </tr>\n",
       "    <tr>\n",
       "      <th id=\"T_a6ad6_level0_row10\" class=\"row_heading level0 row10\" >10</th>\n",
       "      <td id=\"T_a6ad6_row10_col0\" class=\"data row10 col0\" >Numeric imputation</td>\n",
       "      <td id=\"T_a6ad6_row10_col1\" class=\"data row10 col1\" >mean</td>\n",
       "    </tr>\n",
       "    <tr>\n",
       "      <th id=\"T_a6ad6_level0_row11\" class=\"row_heading level0 row11\" >11</th>\n",
       "      <td id=\"T_a6ad6_row11_col0\" class=\"data row11 col0\" >Categorical imputation</td>\n",
       "      <td id=\"T_a6ad6_row11_col1\" class=\"data row11 col1\" >mode</td>\n",
       "    </tr>\n",
       "    <tr>\n",
       "      <th id=\"T_a6ad6_level0_row12\" class=\"row_heading level0 row12\" >12</th>\n",
       "      <td id=\"T_a6ad6_row12_col0\" class=\"data row12 col0\" >Normalize</td>\n",
       "      <td id=\"T_a6ad6_row12_col1\" class=\"data row12 col1\" >True</td>\n",
       "    </tr>\n",
       "    <tr>\n",
       "      <th id=\"T_a6ad6_level0_row13\" class=\"row_heading level0 row13\" >13</th>\n",
       "      <td id=\"T_a6ad6_row13_col0\" class=\"data row13 col0\" >Normalize method</td>\n",
       "      <td id=\"T_a6ad6_row13_col1\" class=\"data row13 col1\" >zscore</td>\n",
       "    </tr>\n",
       "    <tr>\n",
       "      <th id=\"T_a6ad6_level0_row14\" class=\"row_heading level0 row14\" >14</th>\n",
       "      <td id=\"T_a6ad6_row14_col0\" class=\"data row14 col0\" >Fold Generator</td>\n",
       "      <td id=\"T_a6ad6_row14_col1\" class=\"data row14 col1\" >StratifiedKFold</td>\n",
       "    </tr>\n",
       "    <tr>\n",
       "      <th id=\"T_a6ad6_level0_row15\" class=\"row_heading level0 row15\" >15</th>\n",
       "      <td id=\"T_a6ad6_row15_col0\" class=\"data row15 col0\" >Fold Number</td>\n",
       "      <td id=\"T_a6ad6_row15_col1\" class=\"data row15 col1\" >10</td>\n",
       "    </tr>\n",
       "    <tr>\n",
       "      <th id=\"T_a6ad6_level0_row16\" class=\"row_heading level0 row16\" >16</th>\n",
       "      <td id=\"T_a6ad6_row16_col0\" class=\"data row16 col0\" >CPU Jobs</td>\n",
       "      <td id=\"T_a6ad6_row16_col1\" class=\"data row16 col1\" >-1</td>\n",
       "    </tr>\n",
       "    <tr>\n",
       "      <th id=\"T_a6ad6_level0_row17\" class=\"row_heading level0 row17\" >17</th>\n",
       "      <td id=\"T_a6ad6_row17_col0\" class=\"data row17 col0\" >Use GPU</td>\n",
       "      <td id=\"T_a6ad6_row17_col1\" class=\"data row17 col1\" >False</td>\n",
       "    </tr>\n",
       "    <tr>\n",
       "      <th id=\"T_a6ad6_level0_row18\" class=\"row_heading level0 row18\" >18</th>\n",
       "      <td id=\"T_a6ad6_row18_col0\" class=\"data row18 col0\" >Log Experiment</td>\n",
       "      <td id=\"T_a6ad6_row18_col1\" class=\"data row18 col1\" >False</td>\n",
       "    </tr>\n",
       "    <tr>\n",
       "      <th id=\"T_a6ad6_level0_row19\" class=\"row_heading level0 row19\" >19</th>\n",
       "      <td id=\"T_a6ad6_row19_col0\" class=\"data row19 col0\" >Experiment Name</td>\n",
       "      <td id=\"T_a6ad6_row19_col1\" class=\"data row19 col1\" >clf-default-name</td>\n",
       "    </tr>\n",
       "    <tr>\n",
       "      <th id=\"T_a6ad6_level0_row20\" class=\"row_heading level0 row20\" >20</th>\n",
       "      <td id=\"T_a6ad6_row20_col0\" class=\"data row20 col0\" >USI</td>\n",
       "      <td id=\"T_a6ad6_row20_col1\" class=\"data row20 col1\" >5e8f</td>\n",
       "    </tr>\n",
       "  </tbody>\n",
       "</table>\n"
      ],
      "text/plain": [
       "<pandas.io.formats.style.Styler at 0x7fe55d127a00>"
      ]
     },
     "metadata": {},
     "output_type": "display_data"
    },
    {
     "data": {
      "text/html": [],
      "text/plain": [
       "<IPython.core.display.HTML object>"
      ]
     },
     "metadata": {},
     "output_type": "display_data"
    },
    {
     "data": {
      "text/html": [
       "<style type=\"text/css\">\n",
       "#T_89d93 th {\n",
       "  text-align: left;\n",
       "}\n",
       "#T_89d93_row0_col0, #T_89d93_row0_col3, #T_89d93_row0_col5, #T_89d93_row1_col0, #T_89d93_row1_col1, #T_89d93_row1_col2, #T_89d93_row1_col4, #T_89d93_row1_col6, #T_89d93_row1_col7 {\n",
       "  text-align: left;\n",
       "}\n",
       "#T_89d93_row0_col1, #T_89d93_row0_col2, #T_89d93_row0_col4, #T_89d93_row0_col6, #T_89d93_row0_col7, #T_89d93_row1_col3, #T_89d93_row1_col5 {\n",
       "  text-align: left;\n",
       "  background-color: yellow;\n",
       "}\n",
       "#T_89d93_row0_col8 {\n",
       "  text-align: left;\n",
       "  background-color: yellow;\n",
       "  background-color: lightgrey;\n",
       "}\n",
       "#T_89d93_row1_col8 {\n",
       "  text-align: left;\n",
       "  background-color: lightgrey;\n",
       "}\n",
       "</style>\n",
       "<table id=\"T_89d93\">\n",
       "  <thead>\n",
       "    <tr>\n",
       "      <th class=\"blank level0\" >&nbsp;</th>\n",
       "      <th id=\"T_89d93_level0_col0\" class=\"col_heading level0 col0\" >Model</th>\n",
       "      <th id=\"T_89d93_level0_col1\" class=\"col_heading level0 col1\" >Accuracy</th>\n",
       "      <th id=\"T_89d93_level0_col2\" class=\"col_heading level0 col2\" >AUC</th>\n",
       "      <th id=\"T_89d93_level0_col3\" class=\"col_heading level0 col3\" >Recall</th>\n",
       "      <th id=\"T_89d93_level0_col4\" class=\"col_heading level0 col4\" >Prec.</th>\n",
       "      <th id=\"T_89d93_level0_col5\" class=\"col_heading level0 col5\" >F1</th>\n",
       "      <th id=\"T_89d93_level0_col6\" class=\"col_heading level0 col6\" >Kappa</th>\n",
       "      <th id=\"T_89d93_level0_col7\" class=\"col_heading level0 col7\" >MCC</th>\n",
       "      <th id=\"T_89d93_level0_col8\" class=\"col_heading level0 col8\" >TT (Sec)</th>\n",
       "    </tr>\n",
       "  </thead>\n",
       "  <tbody>\n",
       "    <tr>\n",
       "      <th id=\"T_89d93_level0_row0\" class=\"row_heading level0 row0\" >lr</th>\n",
       "      <td id=\"T_89d93_row0_col0\" class=\"data row0 col0\" >Logistic Regression</td>\n",
       "      <td id=\"T_89d93_row0_col1\" class=\"data row0 col1\" >0.5760</td>\n",
       "      <td id=\"T_89d93_row0_col2\" class=\"data row0 col2\" >0.5978</td>\n",
       "      <td id=\"T_89d93_row0_col3\" class=\"data row0 col3\" >0.4848</td>\n",
       "      <td id=\"T_89d93_row0_col4\" class=\"data row0 col4\" >0.5654</td>\n",
       "      <td id=\"T_89d93_row0_col5\" class=\"data row0 col5\" >0.5219</td>\n",
       "      <td id=\"T_89d93_row0_col6\" class=\"data row0 col6\" >0.1451</td>\n",
       "      <td id=\"T_89d93_row0_col7\" class=\"data row0 col7\" >0.1465</td>\n",
       "      <td id=\"T_89d93_row0_col8\" class=\"data row0 col8\" >0.0110</td>\n",
       "    </tr>\n",
       "    <tr>\n",
       "      <th id=\"T_89d93_level0_row1\" class=\"row_heading level0 row1\" >dt</th>\n",
       "      <td id=\"T_89d93_row1_col0\" class=\"data row1 col0\" >Decision Tree Classifier</td>\n",
       "      <td id=\"T_89d93_row1_col1\" class=\"data row1 col1\" >0.5384</td>\n",
       "      <td id=\"T_89d93_row1_col2\" class=\"data row1 col2\" >0.5196</td>\n",
       "      <td id=\"T_89d93_row1_col3\" class=\"data row1 col3\" >0.5707</td>\n",
       "      <td id=\"T_89d93_row1_col4\" class=\"data row1 col4\" >0.5150</td>\n",
       "      <td id=\"T_89d93_row1_col5\" class=\"data row1 col5\" >0.5413</td>\n",
       "      <td id=\"T_89d93_row1_col6\" class=\"data row1 col6\" >0.0792</td>\n",
       "      <td id=\"T_89d93_row1_col7\" class=\"data row1 col7\" >0.0797</td>\n",
       "      <td id=\"T_89d93_row1_col8\" class=\"data row1 col8\" >0.0150</td>\n",
       "    </tr>\n",
       "  </tbody>\n",
       "</table>\n"
      ],
      "text/plain": [
       "<pandas.io.formats.style.Styler at 0x7fe5717d9030>"
      ]
     },
     "metadata": {},
     "output_type": "display_data"
    },
    {
     "data": {
      "text/html": [],
      "text/plain": [
       "<IPython.core.display.HTML object>"
      ]
     },
     "metadata": {},
     "output_type": "display_data"
    },
    {
     "data": {
      "text/html": [
       "<style type=\"text/css\">\n",
       "</style>\n",
       "<table id=\"T_a0f20\">\n",
       "  <thead>\n",
       "    <tr>\n",
       "      <th class=\"blank level0\" >&nbsp;</th>\n",
       "      <th id=\"T_a0f20_level0_col0\" class=\"col_heading level0 col0\" >Model</th>\n",
       "      <th id=\"T_a0f20_level0_col1\" class=\"col_heading level0 col1\" >Accuracy</th>\n",
       "      <th id=\"T_a0f20_level0_col2\" class=\"col_heading level0 col2\" >AUC</th>\n",
       "      <th id=\"T_a0f20_level0_col3\" class=\"col_heading level0 col3\" >Recall</th>\n",
       "      <th id=\"T_a0f20_level0_col4\" class=\"col_heading level0 col4\" >Prec.</th>\n",
       "      <th id=\"T_a0f20_level0_col5\" class=\"col_heading level0 col5\" >F1</th>\n",
       "      <th id=\"T_a0f20_level0_col6\" class=\"col_heading level0 col6\" >Kappa</th>\n",
       "      <th id=\"T_a0f20_level0_col7\" class=\"col_heading level0 col7\" >MCC</th>\n",
       "    </tr>\n",
       "  </thead>\n",
       "  <tbody>\n",
       "    <tr>\n",
       "      <th id=\"T_a0f20_level0_row0\" class=\"row_heading level0 row0\" >0</th>\n",
       "      <td id=\"T_a0f20_row0_col0\" class=\"data row0 col0\" >Logistic Regression</td>\n",
       "      <td id=\"T_a0f20_row0_col1\" class=\"data row0 col1\" >0.5807</td>\n",
       "      <td id=\"T_a0f20_row0_col2\" class=\"data row0 col2\" >0.6023</td>\n",
       "      <td id=\"T_a0f20_row0_col3\" class=\"data row0 col3\" >0.4992</td>\n",
       "      <td id=\"T_a0f20_row0_col4\" class=\"data row0 col4\" >0.5695</td>\n",
       "      <td id=\"T_a0f20_row0_col5\" class=\"data row0 col5\" >0.5320</td>\n",
       "      <td id=\"T_a0f20_row0_col6\" class=\"data row0 col6\" >0.1552</td>\n",
       "      <td id=\"T_a0f20_row0_col7\" class=\"data row0 col7\" >0.1563</td>\n",
       "    </tr>\n",
       "  </tbody>\n",
       "</table>\n"
      ],
      "text/plain": [
       "<pandas.io.formats.style.Styler at 0x7fe531e743d0>"
      ]
     },
     "metadata": {},
     "output_type": "display_data"
    },
    {
     "name": "stdout",
     "output_type": "stream",
     "text": [
      "Parameter: C\n",
      "GridSearch: [0.001, 0.01, 0.1, 1, 10]\n",
      "Scoring: f1\n"
     ]
    },
    {
     "data": {
      "image/png": "[encoded data removed]",
      "text/plain": [
       "<Figure size 600x400 with 1 Axes>"
      ]
     },
     "metadata": {},
     "output_type": "display_data"
    },
    {
     "data": {
      "text/html": [
       "<style type=\"text/css\">\n",
       "</style>\n",
       "<table id=\"T_b6c26\">\n",
       "  <thead>\n",
       "    <tr>\n",
       "      <th class=\"blank level0\" >&nbsp;</th>\n",
       "      <th id=\"T_b6c26_level0_col0\" class=\"col_heading level0 col0\" >Model</th>\n",
       "      <th id=\"T_b6c26_level0_col1\" class=\"col_heading level0 col1\" >Accuracy</th>\n",
       "      <th id=\"T_b6c26_level0_col2\" class=\"col_heading level0 col2\" >AUC</th>\n",
       "      <th id=\"T_b6c26_level0_col3\" class=\"col_heading level0 col3\" >Recall</th>\n",
       "      <th id=\"T_b6c26_level0_col4\" class=\"col_heading level0 col4\" >Prec.</th>\n",
       "      <th id=\"T_b6c26_level0_col5\" class=\"col_heading level0 col5\" >F1</th>\n",
       "      <th id=\"T_b6c26_level0_col6\" class=\"col_heading level0 col6\" >Kappa</th>\n",
       "      <th id=\"T_b6c26_level0_col7\" class=\"col_heading level0 col7\" >MCC</th>\n",
       "    </tr>\n",
       "  </thead>\n",
       "  <tbody>\n",
       "    <tr>\n",
       "      <th id=\"T_b6c26_level0_row0\" class=\"row_heading level0 row0\" >0</th>\n",
       "      <td id=\"T_b6c26_row0_col0\" class=\"data row0 col0\" >Decision Tree Classifier</td>\n",
       "      <td id=\"T_b6c26_row0_col1\" class=\"data row0 col1\" >0.5420</td>\n",
       "      <td id=\"T_b6c26_row0_col2\" class=\"data row0 col2\" >0.5216</td>\n",
       "      <td id=\"T_b6c26_row0_col3\" class=\"data row0 col3\" >0.5983</td>\n",
       "      <td id=\"T_b6c26_row0_col4\" class=\"data row0 col4\" >0.5176</td>\n",
       "      <td id=\"T_b6c26_row0_col5\" class=\"data row0 col5\" >0.5551</td>\n",
       "      <td id=\"T_b6c26_row0_col6\" class=\"data row0 col6\" >0.0883</td>\n",
       "      <td id=\"T_b6c26_row0_col7\" class=\"data row0 col7\" >0.0893</td>\n",
       "    </tr>\n",
       "  </tbody>\n",
       "</table>\n"
      ],
      "text/plain": [
       "<pandas.io.formats.style.Styler at 0x7fe551715240>"
      ]
     },
     "metadata": {},
     "output_type": "display_data"
    },
    {
     "name": "stdout",
     "output_type": "stream",
     "text": [
      "Parameter: max_depth\n",
      "GridSearch: [2, 3, 4, 5, 6, 7, 8]\n",
      "Scoring: f1\n"
     ]
    },
    {
     "data": {
      "image/png": "[encoded data removed]",
      "text/plain": [
       "<Figure size 600x400 with 1 Axes>"
      ]
     },
     "metadata": {},
     "output_type": "display_data"
    },
    {
     "data": {
      "text/html": [],
      "text/plain": [
       "<IPython.core.display.HTML object>"
      ]
     },
     "metadata": {},
     "output_type": "display_data"
    },
    {
     "data": {
      "text/html": [
       "<style type=\"text/css\">\n",
       "#T_a7c15_row10_col0, #T_a7c15_row10_col1, #T_a7c15_row10_col2, #T_a7c15_row10_col3, #T_a7c15_row10_col4, #T_a7c15_row10_col5, #T_a7c15_row10_col6 {\n",
       "  background: yellow;\n",
       "}\n",
       "</style>\n",
       "<table id=\"T_a7c15\">\n",
       "  <thead>\n",
       "    <tr>\n",
       "      <th class=\"blank level0\" >&nbsp;</th>\n",
       "      <th id=\"T_a7c15_level0_col0\" class=\"col_heading level0 col0\" >Accuracy</th>\n",
       "      <th id=\"T_a7c15_level0_col1\" class=\"col_heading level0 col1\" >AUC</th>\n",
       "      <th id=\"T_a7c15_level0_col2\" class=\"col_heading level0 col2\" >Recall</th>\n",
       "      <th id=\"T_a7c15_level0_col3\" class=\"col_heading level0 col3\" >Prec.</th>\n",
       "      <th id=\"T_a7c15_level0_col4\" class=\"col_heading level0 col4\" >F1</th>\n",
       "      <th id=\"T_a7c15_level0_col5\" class=\"col_heading level0 col5\" >Kappa</th>\n",
       "      <th id=\"T_a7c15_level0_col6\" class=\"col_heading level0 col6\" >MCC</th>\n",
       "    </tr>\n",
       "    <tr>\n",
       "      <th class=\"index_name level0\" >Fold</th>\n",
       "      <th class=\"blank col0\" >&nbsp;</th>\n",
       "      <th class=\"blank col1\" >&nbsp;</th>\n",
       "      <th class=\"blank col2\" >&nbsp;</th>\n",
       "      <th class=\"blank col3\" >&nbsp;</th>\n",
       "      <th class=\"blank col4\" >&nbsp;</th>\n",
       "      <th class=\"blank col5\" >&nbsp;</th>\n",
       "      <th class=\"blank col6\" >&nbsp;</th>\n",
       "    </tr>\n",
       "  </thead>\n",
       "  <tbody>\n",
       "    <tr>\n",
       "      <th id=\"T_a7c15_level0_row0\" class=\"row_heading level0 row0\" >0</th>\n",
       "      <td id=\"T_a7c15_row0_col0\" class=\"data row0 col0\" >0.5576</td>\n",
       "      <td id=\"T_a7c15_row0_col1\" class=\"data row0 col1\" >0.5827</td>\n",
       "      <td id=\"T_a7c15_row0_col2\" class=\"data row0 col2\" >0.5290</td>\n",
       "      <td id=\"T_a7c15_row0_col3\" class=\"data row0 col3\" >0.5374</td>\n",
       "      <td id=\"T_a7c15_row0_col4\" class=\"data row0 col4\" >0.5332</td>\n",
       "      <td id=\"T_a7c15_row0_col5\" class=\"data row0 col5\" >0.1128</td>\n",
       "      <td id=\"T_a7c15_row0_col6\" class=\"data row0 col6\" >0.1128</td>\n",
       "    </tr>\n",
       "    <tr>\n",
       "      <th id=\"T_a7c15_level0_row1\" class=\"row_heading level0 row1\" >1</th>\n",
       "      <td id=\"T_a7c15_row1_col0\" class=\"data row1 col0\" >0.5607</td>\n",
       "      <td id=\"T_a7c15_row1_col1\" class=\"data row1 col1\" >0.5956</td>\n",
       "      <td id=\"T_a7c15_row1_col2\" class=\"data row1 col2\" >0.5239</td>\n",
       "      <td id=\"T_a7c15_row1_col3\" class=\"data row1 col3\" >0.5413</td>\n",
       "      <td id=\"T_a7c15_row1_col4\" class=\"data row1 col4\" >0.5325</td>\n",
       "      <td id=\"T_a7c15_row1_col5\" class=\"data row1 col5\" >0.1184</td>\n",
       "      <td id=\"T_a7c15_row1_col6\" class=\"data row1 col6\" >0.1184</td>\n",
       "    </tr>\n",
       "    <tr>\n",
       "      <th id=\"T_a7c15_level0_row2\" class=\"row_heading level0 row2\" >2</th>\n",
       "      <td id=\"T_a7c15_row2_col0\" class=\"data row2 col0\" >0.5662</td>\n",
       "      <td id=\"T_a7c15_row2_col1\" class=\"data row2 col1\" >0.5837</td>\n",
       "      <td id=\"T_a7c15_row2_col2\" class=\"data row2 col2\" >0.5342</td>\n",
       "      <td id=\"T_a7c15_row2_col3\" class=\"data row2 col3\" >0.5469</td>\n",
       "      <td id=\"T_a7c15_row2_col4\" class=\"data row2 col4\" >0.5405</td>\n",
       "      <td id=\"T_a7c15_row2_col5\" class=\"data row2 col5\" >0.1298</td>\n",
       "      <td id=\"T_a7c15_row2_col6\" class=\"data row2 col6\" >0.1299</td>\n",
       "    </tr>\n",
       "    <tr>\n",
       "      <th id=\"T_a7c15_level0_row3\" class=\"row_heading level0 row3\" >3</th>\n",
       "      <td id=\"T_a7c15_row3_col0\" class=\"data row3 col0\" >0.5841</td>\n",
       "      <td id=\"T_a7c15_row3_col1\" class=\"data row3 col1\" >0.6013</td>\n",
       "      <td id=\"T_a7c15_row3_col2\" class=\"data row3 col2\" >0.5355</td>\n",
       "      <td id=\"T_a7c15_row3_col3\" class=\"data row3 col3\" >0.5685</td>\n",
       "      <td id=\"T_a7c15_row3_col4\" class=\"data row3 col4\" >0.5515</td>\n",
       "      <td id=\"T_a7c15_row3_col5\" class=\"data row3 col5\" >0.1644</td>\n",
       "      <td id=\"T_a7c15_row3_col6\" class=\"data row3 col6\" >0.1647</td>\n",
       "    </tr>\n",
       "    <tr>\n",
       "      <th id=\"T_a7c15_level0_row4\" class=\"row_heading level0 row4\" >4</th>\n",
       "      <td id=\"T_a7c15_row4_col0\" class=\"data row4 col0\" >0.5847</td>\n",
       "      <td id=\"T_a7c15_row4_col1\" class=\"data row4 col1\" >0.5979</td>\n",
       "      <td id=\"T_a7c15_row4_col2\" class=\"data row4 col2\" >0.5445</td>\n",
       "      <td id=\"T_a7c15_row4_col3\" class=\"data row4 col3\" >0.5680</td>\n",
       "      <td id=\"T_a7c15_row4_col4\" class=\"data row4 col4\" >0.5560</td>\n",
       "      <td id=\"T_a7c15_row4_col5\" class=\"data row4 col5\" >0.1663</td>\n",
       "      <td id=\"T_a7c15_row4_col6\" class=\"data row4 col6\" >0.1664</td>\n",
       "    </tr>\n",
       "    <tr>\n",
       "      <th id=\"T_a7c15_level0_row5\" class=\"row_heading level0 row5\" >5</th>\n",
       "      <td id=\"T_a7c15_row5_col0\" class=\"data row5 col0\" >0.5724</td>\n",
       "      <td id=\"T_a7c15_row5_col1\" class=\"data row5 col1\" >0.6110</td>\n",
       "      <td id=\"T_a7c15_row5_col2\" class=\"data row5 col2\" >0.5316</td>\n",
       "      <td id=\"T_a7c15_row5_col3\" class=\"data row5 col3\" >0.5545</td>\n",
       "      <td id=\"T_a7c15_row5_col4\" class=\"data row5 col4\" >0.5428</td>\n",
       "      <td id=\"T_a7c15_row5_col5\" class=\"data row5 col5\" >0.1415</td>\n",
       "      <td id=\"T_a7c15_row5_col6\" class=\"data row5 col6\" >0.1416</td>\n",
       "    </tr>\n",
       "    <tr>\n",
       "      <th id=\"T_a7c15_level0_row6\" class=\"row_heading level0 row6\" >6</th>\n",
       "      <td id=\"T_a7c15_row6_col0\" class=\"data row6 col0\" >0.5779</td>\n",
       "      <td id=\"T_a7c15_row6_col1\" class=\"data row6 col1\" >0.6078</td>\n",
       "      <td id=\"T_a7c15_row6_col2\" class=\"data row6 col2\" >0.5452</td>\n",
       "      <td id=\"T_a7c15_row6_col3\" class=\"data row6 col3\" >0.5589</td>\n",
       "      <td id=\"T_a7c15_row6_col4\" class=\"data row6 col4\" >0.5520</td>\n",
       "      <td id=\"T_a7c15_row6_col5\" class=\"data row6 col5\" >0.1532</td>\n",
       "      <td id=\"T_a7c15_row6_col6\" class=\"data row6 col6\" >0.1532</td>\n",
       "    </tr>\n",
       "    <tr>\n",
       "      <th id=\"T_a7c15_level0_row7\" class=\"row_heading level0 row7\" >7</th>\n",
       "      <td id=\"T_a7c15_row7_col0\" class=\"data row7 col0\" >0.5632</td>\n",
       "      <td id=\"T_a7c15_row7_col1\" class=\"data row7 col1\" >0.5896</td>\n",
       "      <td id=\"T_a7c15_row7_col2\" class=\"data row7 col2\" >0.5530</td>\n",
       "      <td id=\"T_a7c15_row7_col3\" class=\"data row7 col3\" >0.5411</td>\n",
       "      <td id=\"T_a7c15_row7_col4\" class=\"data row7 col4\" >0.5470</td>\n",
       "      <td id=\"T_a7c15_row7_col5\" class=\"data row7 col5\" >0.1253</td>\n",
       "      <td id=\"T_a7c15_row7_col6\" class=\"data row7 col6\" >0.1253</td>\n",
       "    </tr>\n",
       "    <tr>\n",
       "      <th id=\"T_a7c15_level0_row8\" class=\"row_heading level0 row8\" >8</th>\n",
       "      <td id=\"T_a7c15_row8_col0\" class=\"data row8 col0\" >0.5937</td>\n",
       "      <td id=\"T_a7c15_row8_col1\" class=\"data row8 col1\" >0.6076</td>\n",
       "      <td id=\"T_a7c15_row8_col2\" class=\"data row8 col2\" >0.5788</td>\n",
       "      <td id=\"T_a7c15_row8_col3\" class=\"data row8 col3\" >0.5736</td>\n",
       "      <td id=\"T_a7c15_row8_col4\" class=\"data row8 col4\" >0.5762</td>\n",
       "      <td id=\"T_a7c15_row8_col5\" class=\"data row8 col5\" >0.1860</td>\n",
       "      <td id=\"T_a7c15_row8_col6\" class=\"data row8 col6\" >0.1861</td>\n",
       "    </tr>\n",
       "    <tr>\n",
       "      <th id=\"T_a7c15_level0_row9\" class=\"row_heading level0 row9\" >9</th>\n",
       "      <td id=\"T_a7c15_row9_col0\" class=\"data row9 col0\" >0.5777</td>\n",
       "      <td id=\"T_a7c15_row9_col1\" class=\"data row9 col1\" >0.6005</td>\n",
       "      <td id=\"T_a7c15_row9_col2\" class=\"data row9 col2\" >0.5258</td>\n",
       "      <td id=\"T_a7c15_row9_col3\" class=\"data row9 col3\" >0.5614</td>\n",
       "      <td id=\"T_a7c15_row9_col4\" class=\"data row9 col4\" >0.5430</td>\n",
       "      <td id=\"T_a7c15_row9_col5\" class=\"data row9 col5\" >0.1513</td>\n",
       "      <td id=\"T_a7c15_row9_col6\" class=\"data row9 col6\" >0.1515</td>\n",
       "    </tr>\n",
       "    <tr>\n",
       "      <th id=\"T_a7c15_level0_row10\" class=\"row_heading level0 row10\" >Mean</th>\n",
       "      <td id=\"T_a7c15_row10_col0\" class=\"data row10 col0\" >0.5738</td>\n",
       "      <td id=\"T_a7c15_row10_col1\" class=\"data row10 col1\" >0.5978</td>\n",
       "      <td id=\"T_a7c15_row10_col2\" class=\"data row10 col2\" >0.5402</td>\n",
       "      <td id=\"T_a7c15_row10_col3\" class=\"data row10 col3\" >0.5552</td>\n",
       "      <td id=\"T_a7c15_row10_col4\" class=\"data row10 col4\" >0.5475</td>\n",
       "      <td id=\"T_a7c15_row10_col5\" class=\"data row10 col5\" >0.1449</td>\n",
       "      <td id=\"T_a7c15_row10_col6\" class=\"data row10 col6\" >0.1450</td>\n",
       "    </tr>\n",
       "    <tr>\n",
       "      <th id=\"T_a7c15_level0_row11\" class=\"row_heading level0 row11\" >Std</th>\n",
       "      <td id=\"T_a7c15_row11_col0\" class=\"data row11 col0\" >0.0112</td>\n",
       "      <td id=\"T_a7c15_row11_col1\" class=\"data row11 col1\" >0.0094</td>\n",
       "      <td id=\"T_a7c15_row11_col2\" class=\"data row11 col2\" >0.0156</td>\n",
       "      <td id=\"T_a7c15_row11_col3\" class=\"data row11 col3\" >0.0123</td>\n",
       "      <td id=\"T_a7c15_row11_col4\" class=\"data row11 col4\" >0.0121</td>\n",
       "      <td id=\"T_a7c15_row11_col5\" class=\"data row11 col5\" >0.0223</td>\n",
       "      <td id=\"T_a7c15_row11_col6\" class=\"data row11 col6\" >0.0224</td>\n",
       "    </tr>\n",
       "  </tbody>\n",
       "</table>\n"
      ],
      "text/plain": [
       "<pandas.io.formats.style.Styler at 0x7fe541ce2680>"
      ]
     },
     "metadata": {},
     "output_type": "display_data"
    },
    {
     "data": {
      "text/html": [],
      "text/plain": [
       "<IPython.core.display.HTML object>"
      ]
     },
     "metadata": {},
     "output_type": "display_data"
    },
    {
     "name": "stdout",
     "output_type": "stream",
     "text": [
      "Fitting 10 folds for each of 4 candidates, totalling 40 fits\n"
     ]
    },
    {
     "data": {
      "text/html": [
       "<style type=\"text/css\">\n",
       "</style>\n",
       "<table id=\"T_60849\">\n",
       "  <thead>\n",
       "    <tr>\n",
       "      <th class=\"blank level0\" >&nbsp;</th>\n",
       "      <th id=\"T_60849_level0_col0\" class=\"col_heading level0 col0\" >Model</th>\n",
       "      <th id=\"T_60849_level0_col1\" class=\"col_heading level0 col1\" >Accuracy</th>\n",
       "      <th id=\"T_60849_level0_col2\" class=\"col_heading level0 col2\" >AUC</th>\n",
       "      <th id=\"T_60849_level0_col3\" class=\"col_heading level0 col3\" >Recall</th>\n",
       "      <th id=\"T_60849_level0_col4\" class=\"col_heading level0 col4\" >Prec.</th>\n",
       "      <th id=\"T_60849_level0_col5\" class=\"col_heading level0 col5\" >F1</th>\n",
       "      <th id=\"T_60849_level0_col6\" class=\"col_heading level0 col6\" >Kappa</th>\n",
       "      <th id=\"T_60849_level0_col7\" class=\"col_heading level0 col7\" >MCC</th>\n",
       "    </tr>\n",
       "  </thead>\n",
       "  <tbody>\n",
       "    <tr>\n",
       "      <th id=\"T_60849_level0_row0\" class=\"row_heading level0 row0\" >0</th>\n",
       "      <td id=\"T_60849_row0_col0\" class=\"data row0 col0\" >Logistic Regression</td>\n",
       "      <td id=\"T_60849_row0_col1\" class=\"data row0 col1\" >0.5719</td>\n",
       "      <td id=\"T_60849_row0_col2\" class=\"data row0 col2\" >0.6023</td>\n",
       "      <td id=\"T_60849_row0_col3\" class=\"data row0 col3\" >0.5441</td>\n",
       "      <td id=\"T_60849_row0_col4\" class=\"data row0 col4\" >0.5524</td>\n",
       "      <td id=\"T_60849_row0_col5\" class=\"data row0 col5\" >0.5482</td>\n",
       "      <td id=\"T_60849_row0_col6\" class=\"data row0 col6\" >0.1414</td>\n",
       "      <td id=\"T_60849_row0_col7\" class=\"data row0 col7\" >0.1414</td>\n",
       "    </tr>\n",
       "  </tbody>\n",
       "</table>\n"
      ],
      "text/plain": [
       "<pandas.io.formats.style.Styler at 0x7fe55d196620>"
      ]
     },
     "metadata": {},
     "output_type": "display_data"
    },
    {
     "name": "stdout",
     "output_type": "stream",
     "text": [
      "Transformation Pipeline and Model Successfully Saved\n",
      "Transformation Pipeline and Model Successfully Loaded\n"
     ]
    },
    {
     "name": "stderr",
     "output_type": "stream",
     "text": [
      "Registered model 'modelo_kobe' already exists. Creating a new version of this model...\n",
      "Created version '10' of model 'modelo_kobe'.\n"
     ]
    }
   ],
   "source": [
    "registered_model_name = 'modelo_kobe'\n",
    "nexamples = 5\n",
    "model_version = -1\n",
    "\n",
    "with mlflow.start_run(experiment_id=experiment_id, run_name = 'Treinamento'):\n",
    "    # configura pycaret\n",
    "    experiment = pycaret_classification.setup(\n",
    "        data = xtrain, \n",
    "        target = coluna_alvo, \n",
    "        test_data = xtest, \n",
    "        normalize = True, \n",
    "        log_experiment = False\n",
    "    )\n",
    "\n",
    "    # Os modelos utilizados são regressão logística (lr) e árvore de decisão (dt)\n",
    "    modelos_utilizados = ['lr', 'dt']\n",
    "\n",
    "    list_models = experiment.compare_models(modelos_utilizados, n_select = 2)\n",
    "\n",
    "    list_models\n",
    "    \n",
    "    # Regressão Logística\n",
    "    yhat_test = experiment.predict_model(list_models[0])\n",
    "    lr_image_name = plot_parameter_validation_curve(xtrain.drop(coluna_alvo, axis=1), ytrain, 'C', {'C': [0.001, 0.01, 0.1, 1, 10]}, list_models[0], 'Regressão Logística', 'f1', logx=True)\n",
    "\n",
    "    mlflow.log_artifact(lr_image_name)\n",
    "\n",
    "    os.remove(lr_image_name)\n",
    "\n",
    "    mlflow.log_metrics({\n",
    "    'lr_log_loss': log_loss(yhat_test.shot_made_flag, yhat_test.prediction_label),\n",
    "    'lr_f1': f1_score(yhat_test.shot_made_flag, yhat_test.prediction_label)\n",
    "    })\n",
    "    \n",
    "    # Árvore de decisão\n",
    "    yhat_test = experiment.predict_model(list_models[1])\n",
    "    \n",
    "    dt_image_name = plot_parameter_validation_curve(xtrain.drop(coluna_alvo, axis=1), ytrain, 'max_depth', {'max_depth': [2, 3, 4, 5, 6, 7, 8]}, list_models[1], 'Árvore de decisão', 'f1', logx=False)\n",
    "\n",
    "    mlflow.log_artifact(dt_image_name)\n",
    "\n",
    "    os.remove(dt_image_name)\n",
    "\n",
    "    mlflow.log_metrics({\n",
    "    'dt_log_loss': log_loss(yhat_test.shot_made_flag, yhat_test.prediction_label),\n",
    "    'dt_f1': f1_score(yhat_test.shot_made_flag, yhat_test.prediction_label)\n",
    "    })\n",
    "    \n",
    "    # Finaliza o melhor modelo ( Regressão Logística)\n",
    "    tune_model = experiment.tune_model(list_models[0], optimize = 'f1', search_library = 'scikit-learn', search_algorithm = 'random',  n_iter = 4)\n",
    "    \n",
    "    yhat_test = experiment.predict_model(tune_model, raw_score=True)\n",
    "    mlflow.log_metrics({\n",
    "    'final_log_loss': log_loss(yhat_test.shot_made_flag, yhat_test.prediction_label),\n",
    "    'final_f1': f1_score(yhat_test.shot_made_flag, yhat_test.prediction_label)\n",
    "    })\n",
    "    \n",
    "    prediction_test_file = '../data/processed/prediction_test.parquet'\n",
    "    yhat_test.to_parquet(prediction_test_file)\n",
    "    mlflow.log_artifact(prediction_test_file)\n",
    "    \n",
    "    final_model = experiment.finalize_model(tune_model)\n",
    "\n",
    "    # EXPORTA PARA LOG E REGISTRO DO MODELO FINAL\n",
    "\n",
    "    registered_model_name = 'modelo_kobe'\n",
    "    nexamples = 5\n",
    "\n",
    "    experiment.save_model(final_model, f'./{registered_model_name}') \n",
    "\n",
    "    # Carrega novamente o pipeline + bestmodel\n",
    "    model_pipe = experiment.load_model(f'./{registered_model_name}')\n",
    "    # Assinatura do Modelo Inferida pelo MLFlow\n",
    "\n",
    "    model_features = list(xtrain.drop(coluna_alvo, axis=1).columns)\n",
    "    inf_signature = infer_signature(xtrain[model_features], model_pipe.predict(xtrain.drop(coluna_alvo, axis=1)))\n",
    "    # Exemplo de entrada para o MLmodel\n",
    "    input_example = {x: xtrain[x].values[:nexamples] for x in model_features}\n",
    "    # Log do pipeline de modelagem do sklearn e registrar como uma nova versao\n",
    "    mlflow.sklearn.log_model(\n",
    "        sk_model=model_pipe,\n",
    "        artifact_path=\"sklearn-model\",\n",
    "        registered_model_name=registered_model_name,\n",
    "        signature = inf_signature,\n",
    "        input_example = input_example\n",
    "    )\n",
    "    # Criacao do cliente do servico MLFlow e atualizacao versao modelo\n",
    "    client = MlflowClient()\n",
    "    if model_version == -1:\n",
    "        model_version = client.get_latest_versions(registered_model_name)[-1].version\n",
    "    # Registrar o modelo como staging\n",
    "    client.set_registered_model_alias(\n",
    "        name=registered_model_name,\n",
    "        version=model_version, # Verificar com usuario qual versao\n",
    "        alias=\"staging\"\n",
    "    )\n",
    "\n",
    "\n",
    "\n",
    "    \n",
    "    "
   ]
  },
  {
   "cell_type": "code",
   "execution_count": 244,
   "id": "beb3f47b-d7c5-48bb-9d4f-7f81f2d41c67",
   "metadata": {
    "tags": []
   },
   "outputs": [
    {
     "data": {
      "text/html": [
       "<style type=\"text/css\">\n",
       "</style>\n",
       "<table id=\"T_e4e5c\">\n",
       "  <thead>\n",
       "    <tr>\n",
       "      <th class=\"blank level0\" >&nbsp;</th>\n",
       "      <th id=\"T_e4e5c_level0_col0\" class=\"col_heading level0 col0\" >Model</th>\n",
       "      <th id=\"T_e4e5c_level0_col1\" class=\"col_heading level0 col1\" >Accuracy</th>\n",
       "      <th id=\"T_e4e5c_level0_col2\" class=\"col_heading level0 col2\" >AUC</th>\n",
       "      <th id=\"T_e4e5c_level0_col3\" class=\"col_heading level0 col3\" >Recall</th>\n",
       "      <th id=\"T_e4e5c_level0_col4\" class=\"col_heading level0 col4\" >Prec.</th>\n",
       "      <th id=\"T_e4e5c_level0_col5\" class=\"col_heading level0 col5\" >F1</th>\n",
       "      <th id=\"T_e4e5c_level0_col6\" class=\"col_heading level0 col6\" >Kappa</th>\n",
       "      <th id=\"T_e4e5c_level0_col7\" class=\"col_heading level0 col7\" >MCC</th>\n",
       "    </tr>\n",
       "  </thead>\n",
       "  <tbody>\n",
       "    <tr>\n",
       "      <th id=\"T_e4e5c_level0_row0\" class=\"row_heading level0 row0\" >0</th>\n",
       "      <td id=\"T_e4e5c_row0_col0\" class=\"data row0 col0\" >Logistic Regression</td>\n",
       "      <td id=\"T_e4e5c_row0_col1\" class=\"data row0 col1\" >0.5807</td>\n",
       "      <td id=\"T_e4e5c_row0_col2\" class=\"data row0 col2\" >0.6023</td>\n",
       "      <td id=\"T_e4e5c_row0_col3\" class=\"data row0 col3\" >0.4992</td>\n",
       "      <td id=\"T_e4e5c_row0_col4\" class=\"data row0 col4\" >0.5695</td>\n",
       "      <td id=\"T_e4e5c_row0_col5\" class=\"data row0 col5\" >0.5320</td>\n",
       "      <td id=\"T_e4e5c_row0_col6\" class=\"data row0 col6\" >0.1552</td>\n",
       "      <td id=\"T_e4e5c_row0_col7\" class=\"data row0 col7\" >0.1563</td>\n",
       "    </tr>\n",
       "  </tbody>\n",
       "</table>\n"
      ],
      "text/plain": [
       "<pandas.io.formats.style.Styler at 0x7fe560e9a0e0>"
      ]
     },
     "metadata": {},
     "output_type": "display_data"
    },
    {
     "data": {
      "text/html": [
       "<style type=\"text/css\">\n",
       "</style>\n",
       "<table id=\"T_d18d1\">\n",
       "  <thead>\n",
       "    <tr>\n",
       "      <th class=\"blank level0\" >&nbsp;</th>\n",
       "      <th id=\"T_d18d1_level0_col0\" class=\"col_heading level0 col0\" >Model</th>\n",
       "      <th id=\"T_d18d1_level0_col1\" class=\"col_heading level0 col1\" >Accuracy</th>\n",
       "      <th id=\"T_d18d1_level0_col2\" class=\"col_heading level0 col2\" >AUC</th>\n",
       "      <th id=\"T_d18d1_level0_col3\" class=\"col_heading level0 col3\" >Recall</th>\n",
       "      <th id=\"T_d18d1_level0_col4\" class=\"col_heading level0 col4\" >Prec.</th>\n",
       "      <th id=\"T_d18d1_level0_col5\" class=\"col_heading level0 col5\" >F1</th>\n",
       "      <th id=\"T_d18d1_level0_col6\" class=\"col_heading level0 col6\" >Kappa</th>\n",
       "      <th id=\"T_d18d1_level0_col7\" class=\"col_heading level0 col7\" >MCC</th>\n",
       "    </tr>\n",
       "  </thead>\n",
       "  <tbody>\n",
       "    <tr>\n",
       "      <th id=\"T_d18d1_level0_row0\" class=\"row_heading level0 row0\" >0</th>\n",
       "      <td id=\"T_d18d1_row0_col0\" class=\"data row0 col0\" >Decision Tree Classifier</td>\n",
       "      <td id=\"T_d18d1_row0_col1\" class=\"data row0 col1\" >0.5428</td>\n",
       "      <td id=\"T_d18d1_row0_col2\" class=\"data row0 col2\" >0.5222</td>\n",
       "      <td id=\"T_d18d1_row0_col3\" class=\"data row0 col3\" >0.5947</td>\n",
       "      <td id=\"T_d18d1_row0_col4\" class=\"data row0 col4\" >0.5185</td>\n",
       "      <td id=\"T_d18d1_row0_col5\" class=\"data row0 col5\" >0.5540</td>\n",
       "      <td id=\"T_d18d1_row0_col6\" class=\"data row0 col6\" >0.0894</td>\n",
       "      <td id=\"T_d18d1_row0_col7\" class=\"data row0 col7\" >0.0903</td>\n",
       "    </tr>\n",
       "  </tbody>\n",
       "</table>\n"
      ],
      "text/plain": [
       "<pandas.io.formats.style.Styler at 0x7fe550f6cbb0>"
      ]
     },
     "metadata": {},
     "output_type": "display_data"
    },
    {
     "data": {
      "image/png": "[encoded data removed]",
      "text/plain": [
       "<Figure size 800x550 with 1 Axes>"
      ]
     },
     "metadata": {},
     "output_type": "display_data"
    }
   ],
   "source": [
    "yhat_test = experiment.predict_model(list_models[0], raw_score=True)\n",
    "fpr, tpr, thr = roc_curve(yhat_test.shot_made_flag, yhat_test.prediction_score_1)\n",
    "plot.plot(fpr, tpr, label='Regressão Logística')\n",
    "\n",
    "yhat_test = experiment.predict_model(list_models[1], raw_score=True)\n",
    "fpr, tpr, thr = roc_curve(yhat_test.shot_made_flag, yhat_test.prediction_score_1)\n",
    "plot.plot(fpr, tpr, label='Árvore de Decisão')\n",
    "\n",
    "\n",
    "plot.xlabel('Taxa de Falsos Positivos')\n",
    "plot.ylabel('Taxa de Verdadeiros Positivos')\n",
    "plot.title('Curva ROC')\n",
    "\n",
    "plot.show()\n",
    "\n",
    "\n"
   ]
  },
  {
   "cell_type": "code",
   "execution_count": 264,
   "id": "f1363c67-8344-4d79-8a1a-f9880b9525fa",
   "metadata": {
    "tags": []
   },
   "outputs": [
    {
     "data": {
      "text/html": [],
      "text/plain": [
       "<IPython.core.display.HTML object>"
      ]
     },
     "metadata": {},
     "output_type": "display_data"
    },
    {
     "data": {
      "text/html": [
       "<style type=\"text/css\">\n",
       "#T_988f7_row10_col0, #T_988f7_row10_col1, #T_988f7_row10_col2, #T_988f7_row10_col3, #T_988f7_row10_col4, #T_988f7_row10_col5, #T_988f7_row10_col6 {\n",
       "  background: yellow;\n",
       "}\n",
       "</style>\n",
       "<table id=\"T_988f7\">\n",
       "  <thead>\n",
       "    <tr>\n",
       "      <th class=\"blank level0\" >&nbsp;</th>\n",
       "      <th id=\"T_988f7_level0_col0\" class=\"col_heading level0 col0\" >Accuracy</th>\n",
       "      <th id=\"T_988f7_level0_col1\" class=\"col_heading level0 col1\" >AUC</th>\n",
       "      <th id=\"T_988f7_level0_col2\" class=\"col_heading level0 col2\" >Recall</th>\n",
       "      <th id=\"T_988f7_level0_col3\" class=\"col_heading level0 col3\" >Prec.</th>\n",
       "      <th id=\"T_988f7_level0_col4\" class=\"col_heading level0 col4\" >F1</th>\n",
       "      <th id=\"T_988f7_level0_col5\" class=\"col_heading level0 col5\" >Kappa</th>\n",
       "      <th id=\"T_988f7_level0_col6\" class=\"col_heading level0 col6\" >MCC</th>\n",
       "    </tr>\n",
       "    <tr>\n",
       "      <th class=\"index_name level0\" >Fold</th>\n",
       "      <th class=\"blank col0\" >&nbsp;</th>\n",
       "      <th class=\"blank col1\" >&nbsp;</th>\n",
       "      <th class=\"blank col2\" >&nbsp;</th>\n",
       "      <th class=\"blank col3\" >&nbsp;</th>\n",
       "      <th class=\"blank col4\" >&nbsp;</th>\n",
       "      <th class=\"blank col5\" >&nbsp;</th>\n",
       "      <th class=\"blank col6\" >&nbsp;</th>\n",
       "    </tr>\n",
       "  </thead>\n",
       "  <tbody>\n",
       "    <tr>\n",
       "      <th id=\"T_988f7_level0_row0\" class=\"row_heading level0 row0\" >0</th>\n",
       "      <td id=\"T_988f7_row0_col0\" class=\"data row0 col0\" >0.5576</td>\n",
       "      <td id=\"T_988f7_row0_col1\" class=\"data row0 col1\" >0.5827</td>\n",
       "      <td id=\"T_988f7_row0_col2\" class=\"data row0 col2\" >0.5290</td>\n",
       "      <td id=\"T_988f7_row0_col3\" class=\"data row0 col3\" >0.5374</td>\n",
       "      <td id=\"T_988f7_row0_col4\" class=\"data row0 col4\" >0.5332</td>\n",
       "      <td id=\"T_988f7_row0_col5\" class=\"data row0 col5\" >0.1128</td>\n",
       "      <td id=\"T_988f7_row0_col6\" class=\"data row0 col6\" >0.1128</td>\n",
       "    </tr>\n",
       "    <tr>\n",
       "      <th id=\"T_988f7_level0_row1\" class=\"row_heading level0 row1\" >1</th>\n",
       "      <td id=\"T_988f7_row1_col0\" class=\"data row1 col0\" >0.5607</td>\n",
       "      <td id=\"T_988f7_row1_col1\" class=\"data row1 col1\" >0.5956</td>\n",
       "      <td id=\"T_988f7_row1_col2\" class=\"data row1 col2\" >0.5239</td>\n",
       "      <td id=\"T_988f7_row1_col3\" class=\"data row1 col3\" >0.5413</td>\n",
       "      <td id=\"T_988f7_row1_col4\" class=\"data row1 col4\" >0.5325</td>\n",
       "      <td id=\"T_988f7_row1_col5\" class=\"data row1 col5\" >0.1184</td>\n",
       "      <td id=\"T_988f7_row1_col6\" class=\"data row1 col6\" >0.1184</td>\n",
       "    </tr>\n",
       "    <tr>\n",
       "      <th id=\"T_988f7_level0_row2\" class=\"row_heading level0 row2\" >2</th>\n",
       "      <td id=\"T_988f7_row2_col0\" class=\"data row2 col0\" >0.5662</td>\n",
       "      <td id=\"T_988f7_row2_col1\" class=\"data row2 col1\" >0.5837</td>\n",
       "      <td id=\"T_988f7_row2_col2\" class=\"data row2 col2\" >0.5342</td>\n",
       "      <td id=\"T_988f7_row2_col3\" class=\"data row2 col3\" >0.5469</td>\n",
       "      <td id=\"T_988f7_row2_col4\" class=\"data row2 col4\" >0.5405</td>\n",
       "      <td id=\"T_988f7_row2_col5\" class=\"data row2 col5\" >0.1298</td>\n",
       "      <td id=\"T_988f7_row2_col6\" class=\"data row2 col6\" >0.1299</td>\n",
       "    </tr>\n",
       "    <tr>\n",
       "      <th id=\"T_988f7_level0_row3\" class=\"row_heading level0 row3\" >3</th>\n",
       "      <td id=\"T_988f7_row3_col0\" class=\"data row3 col0\" >0.5841</td>\n",
       "      <td id=\"T_988f7_row3_col1\" class=\"data row3 col1\" >0.6013</td>\n",
       "      <td id=\"T_988f7_row3_col2\" class=\"data row3 col2\" >0.5355</td>\n",
       "      <td id=\"T_988f7_row3_col3\" class=\"data row3 col3\" >0.5685</td>\n",
       "      <td id=\"T_988f7_row3_col4\" class=\"data row3 col4\" >0.5515</td>\n",
       "      <td id=\"T_988f7_row3_col5\" class=\"data row3 col5\" >0.1644</td>\n",
       "      <td id=\"T_988f7_row3_col6\" class=\"data row3 col6\" >0.1647</td>\n",
       "    </tr>\n",
       "    <tr>\n",
       "      <th id=\"T_988f7_level0_row4\" class=\"row_heading level0 row4\" >4</th>\n",
       "      <td id=\"T_988f7_row4_col0\" class=\"data row4 col0\" >0.5847</td>\n",
       "      <td id=\"T_988f7_row4_col1\" class=\"data row4 col1\" >0.5979</td>\n",
       "      <td id=\"T_988f7_row4_col2\" class=\"data row4 col2\" >0.5445</td>\n",
       "      <td id=\"T_988f7_row4_col3\" class=\"data row4 col3\" >0.5680</td>\n",
       "      <td id=\"T_988f7_row4_col4\" class=\"data row4 col4\" >0.5560</td>\n",
       "      <td id=\"T_988f7_row4_col5\" class=\"data row4 col5\" >0.1663</td>\n",
       "      <td id=\"T_988f7_row4_col6\" class=\"data row4 col6\" >0.1664</td>\n",
       "    </tr>\n",
       "    <tr>\n",
       "      <th id=\"T_988f7_level0_row5\" class=\"row_heading level0 row5\" >5</th>\n",
       "      <td id=\"T_988f7_row5_col0\" class=\"data row5 col0\" >0.5724</td>\n",
       "      <td id=\"T_988f7_row5_col1\" class=\"data row5 col1\" >0.6110</td>\n",
       "      <td id=\"T_988f7_row5_col2\" class=\"data row5 col2\" >0.5316</td>\n",
       "      <td id=\"T_988f7_row5_col3\" class=\"data row5 col3\" >0.5545</td>\n",
       "      <td id=\"T_988f7_row5_col4\" class=\"data row5 col4\" >0.5428</td>\n",
       "      <td id=\"T_988f7_row5_col5\" class=\"data row5 col5\" >0.1415</td>\n",
       "      <td id=\"T_988f7_row5_col6\" class=\"data row5 col6\" >0.1416</td>\n",
       "    </tr>\n",
       "    <tr>\n",
       "      <th id=\"T_988f7_level0_row6\" class=\"row_heading level0 row6\" >6</th>\n",
       "      <td id=\"T_988f7_row6_col0\" class=\"data row6 col0\" >0.5779</td>\n",
       "      <td id=\"T_988f7_row6_col1\" class=\"data row6 col1\" >0.6078</td>\n",
       "      <td id=\"T_988f7_row6_col2\" class=\"data row6 col2\" >0.5452</td>\n",
       "      <td id=\"T_988f7_row6_col3\" class=\"data row6 col3\" >0.5589</td>\n",
       "      <td id=\"T_988f7_row6_col4\" class=\"data row6 col4\" >0.5520</td>\n",
       "      <td id=\"T_988f7_row6_col5\" class=\"data row6 col5\" >0.1532</td>\n",
       "      <td id=\"T_988f7_row6_col6\" class=\"data row6 col6\" >0.1532</td>\n",
       "    </tr>\n",
       "    <tr>\n",
       "      <th id=\"T_988f7_level0_row7\" class=\"row_heading level0 row7\" >7</th>\n",
       "      <td id=\"T_988f7_row7_col0\" class=\"data row7 col0\" >0.5632</td>\n",
       "      <td id=\"T_988f7_row7_col1\" class=\"data row7 col1\" >0.5896</td>\n",
       "      <td id=\"T_988f7_row7_col2\" class=\"data row7 col2\" >0.5530</td>\n",
       "      <td id=\"T_988f7_row7_col3\" class=\"data row7 col3\" >0.5411</td>\n",
       "      <td id=\"T_988f7_row7_col4\" class=\"data row7 col4\" >0.5470</td>\n",
       "      <td id=\"T_988f7_row7_col5\" class=\"data row7 col5\" >0.1253</td>\n",
       "      <td id=\"T_988f7_row7_col6\" class=\"data row7 col6\" >0.1253</td>\n",
       "    </tr>\n",
       "    <tr>\n",
       "      <th id=\"T_988f7_level0_row8\" class=\"row_heading level0 row8\" >8</th>\n",
       "      <td id=\"T_988f7_row8_col0\" class=\"data row8 col0\" >0.5937</td>\n",
       "      <td id=\"T_988f7_row8_col1\" class=\"data row8 col1\" >0.6076</td>\n",
       "      <td id=\"T_988f7_row8_col2\" class=\"data row8 col2\" >0.5788</td>\n",
       "      <td id=\"T_988f7_row8_col3\" class=\"data row8 col3\" >0.5736</td>\n",
       "      <td id=\"T_988f7_row8_col4\" class=\"data row8 col4\" >0.5762</td>\n",
       "      <td id=\"T_988f7_row8_col5\" class=\"data row8 col5\" >0.1860</td>\n",
       "      <td id=\"T_988f7_row8_col6\" class=\"data row8 col6\" >0.1861</td>\n",
       "    </tr>\n",
       "    <tr>\n",
       "      <th id=\"T_988f7_level0_row9\" class=\"row_heading level0 row9\" >9</th>\n",
       "      <td id=\"T_988f7_row9_col0\" class=\"data row9 col0\" >0.5777</td>\n",
       "      <td id=\"T_988f7_row9_col1\" class=\"data row9 col1\" >0.6005</td>\n",
       "      <td id=\"T_988f7_row9_col2\" class=\"data row9 col2\" >0.5258</td>\n",
       "      <td id=\"T_988f7_row9_col3\" class=\"data row9 col3\" >0.5614</td>\n",
       "      <td id=\"T_988f7_row9_col4\" class=\"data row9 col4\" >0.5430</td>\n",
       "      <td id=\"T_988f7_row9_col5\" class=\"data row9 col5\" >0.1513</td>\n",
       "      <td id=\"T_988f7_row9_col6\" class=\"data row9 col6\" >0.1515</td>\n",
       "    </tr>\n",
       "    <tr>\n",
       "      <th id=\"T_988f7_level0_row10\" class=\"row_heading level0 row10\" >Mean</th>\n",
       "      <td id=\"T_988f7_row10_col0\" class=\"data row10 col0\" >0.5738</td>\n",
       "      <td id=\"T_988f7_row10_col1\" class=\"data row10 col1\" >0.5978</td>\n",
       "      <td id=\"T_988f7_row10_col2\" class=\"data row10 col2\" >0.5402</td>\n",
       "      <td id=\"T_988f7_row10_col3\" class=\"data row10 col3\" >0.5552</td>\n",
       "      <td id=\"T_988f7_row10_col4\" class=\"data row10 col4\" >0.5475</td>\n",
       "      <td id=\"T_988f7_row10_col5\" class=\"data row10 col5\" >0.1449</td>\n",
       "      <td id=\"T_988f7_row10_col6\" class=\"data row10 col6\" >0.1450</td>\n",
       "    </tr>\n",
       "    <tr>\n",
       "      <th id=\"T_988f7_level0_row11\" class=\"row_heading level0 row11\" >Std</th>\n",
       "      <td id=\"T_988f7_row11_col0\" class=\"data row11 col0\" >0.0112</td>\n",
       "      <td id=\"T_988f7_row11_col1\" class=\"data row11 col1\" >0.0094</td>\n",
       "      <td id=\"T_988f7_row11_col2\" class=\"data row11 col2\" >0.0156</td>\n",
       "      <td id=\"T_988f7_row11_col3\" class=\"data row11 col3\" >0.0123</td>\n",
       "      <td id=\"T_988f7_row11_col4\" class=\"data row11 col4\" >0.0121</td>\n",
       "      <td id=\"T_988f7_row11_col5\" class=\"data row11 col5\" >0.0223</td>\n",
       "      <td id=\"T_988f7_row11_col6\" class=\"data row11 col6\" >0.0224</td>\n",
       "    </tr>\n",
       "  </tbody>\n",
       "</table>\n"
      ],
      "text/plain": [
       "<pandas.io.formats.style.Styler at 0x7fe501156ce0>"
      ]
     },
     "metadata": {},
     "output_type": "display_data"
    },
    {
     "data": {
      "text/html": [],
      "text/plain": [
       "<IPython.core.display.HTML object>"
      ]
     },
     "metadata": {},
     "output_type": "display_data"
    },
    {
     "name": "stdout",
     "output_type": "stream",
     "text": [
      "Fitting 10 folds for each of 4 candidates, totalling 40 fits\n"
     ]
    },
    {
     "data": {
      "text/html": [
       "<style type=\"text/css\">\n",
       "</style>\n",
       "<table id=\"T_d85de\">\n",
       "  <thead>\n",
       "    <tr>\n",
       "      <th class=\"blank level0\" >&nbsp;</th>\n",
       "      <th id=\"T_d85de_level0_col0\" class=\"col_heading level0 col0\" >Model</th>\n",
       "      <th id=\"T_d85de_level0_col1\" class=\"col_heading level0 col1\" >Accuracy</th>\n",
       "      <th id=\"T_d85de_level0_col2\" class=\"col_heading level0 col2\" >AUC</th>\n",
       "      <th id=\"T_d85de_level0_col3\" class=\"col_heading level0 col3\" >Recall</th>\n",
       "      <th id=\"T_d85de_level0_col4\" class=\"col_heading level0 col4\" >Prec.</th>\n",
       "      <th id=\"T_d85de_level0_col5\" class=\"col_heading level0 col5\" >F1</th>\n",
       "      <th id=\"T_d85de_level0_col6\" class=\"col_heading level0 col6\" >Kappa</th>\n",
       "      <th id=\"T_d85de_level0_col7\" class=\"col_heading level0 col7\" >MCC</th>\n",
       "    </tr>\n",
       "  </thead>\n",
       "  <tbody>\n",
       "    <tr>\n",
       "      <th id=\"T_d85de_level0_row0\" class=\"row_heading level0 row0\" >0</th>\n",
       "      <td id=\"T_d85de_row0_col0\" class=\"data row0 col0\" >Logistic Regression</td>\n",
       "      <td id=\"T_d85de_row0_col1\" class=\"data row0 col1\" >0.5719</td>\n",
       "      <td id=\"T_d85de_row0_col2\" class=\"data row0 col2\" >0.6023</td>\n",
       "      <td id=\"T_d85de_row0_col3\" class=\"data row0 col3\" >0.5441</td>\n",
       "      <td id=\"T_d85de_row0_col4\" class=\"data row0 col4\" >0.5524</td>\n",
       "      <td id=\"T_d85de_row0_col5\" class=\"data row0 col5\" >0.5482</td>\n",
       "      <td id=\"T_d85de_row0_col6\" class=\"data row0 col6\" >0.1414</td>\n",
       "      <td id=\"T_d85de_row0_col7\" class=\"data row0 col7\" >0.1414</td>\n",
       "    </tr>\n",
       "  </tbody>\n",
       "</table>\n"
      ],
      "text/plain": [
       "<pandas.io.formats.style.Styler at 0x7fe55111fb50>"
      ]
     },
     "metadata": {},
     "output_type": "display_data"
    },
    {
     "name": "stdout",
     "output_type": "stream",
     "text": [
      "Transformation Pipeline and Model Successfully Saved\n",
      "Transformation Pipeline and Model Successfully Loaded\n"
     ]
    },
    {
     "name": "stderr",
     "output_type": "stream",
     "text": [
      "Registered model 'modelo_kobe' already exists. Creating a new version of this model...\n",
      "Created version '8' of model 'modelo_kobe'.\n"
     ]
    }
   ],
   "source": [
    "# Finaliza o melhor modelo ( Regressão Logística)\n",
    "tune_model = experiment.tune_model(list_models[0], optimize = 'f1', search_library = 'scikit-learn', search_algorithm = 'random',  n_iter = 4)\n",
    "\n",
    "yhat_test = experiment.predict_model(tune_model)\n",
    "mlflow.log_metrics({\n",
    "'final_log_loss': log_loss(yhat_test.shot_made_flag, yhat_test.prediction_label),\n",
    "'final_f1': f1_score(yhat_test.shot_made_flag, yhat_test.prediction_label)\n",
    "})\n",
    "\n",
    "final_model = experiment.finalize_model(tune_model)\n",
    "\n",
    "# EXPORTA PARA LOG E REGISTRO DO MODELO FINAL\n",
    "\n",
    "registered_model_name = 'modelo_kobe'\n",
    "nexamples = 5\n",
    "\n",
    "experiment.save_model(final_model, f'./{registered_model_name}') \n",
    "\n",
    "# Carrega novamente o pipeline + bestmodel\n",
    "model_pipe = experiment.load_model(f'./{registered_model_name}')\n",
    "# Assinatura do Modelo Inferida pelo MLFlow\n",
    "\n",
    "model_features = list(xtrain.drop(coluna_alvo, axis=1).columns)\n",
    "inf_signature = infer_signature(xtrain[model_features], model_pipe.predict_proba(xtrain.drop(coluna_alvo, axis=1)))\n",
    "# Exemplo de entrada para o MLmodel\n",
    "input_example = {x: xtrain[x].values[:nexamples] for x in model_features}\n",
    "# Log do pipeline de modelagem do sklearn e registrar como uma nova versao\n",
    "mlflow.sklearn.log_model(\n",
    "    sk_model=model_pipe,\n",
    "    artifact_path=\"sklearn-model\",\n",
    "    registered_model_name=registered_model_name,\n",
    "    signature = inf_signature,\n",
    "    input_example = input_example,\n",
    "    pyfunc_predict_fn = 'predict_proba'\n",
    ")\n",
    "# Criacao do cliente do servico MLFlow e atualizacao versao modelo\n",
    "client = MlflowClient()\n",
    "if model_version == -1:\n",
    "    model_version = client.get_latest_versions(registered_model_name)[-1].version\n",
    "# Registrar o modelo como staging\n",
    "client.set_registered_model_alias(\n",
    "    name=registered_model_name,\n",
    "    version=model_version, # Verificar com usuario qual versao\n",
    "    alias=\"staging\"\n",
    ")\n",
    "\n",
    "# Ainda falta logar as métricas\n",
    "\n",
    "    \n",
    "    "
   ]
  },
  {
   "cell_type": "code",
   "execution_count": 194,
   "id": "408bc48b-71e3-4f35-bf06-92ca84d474c7",
   "metadata": {
    "tags": []
   },
   "outputs": [
    {
     "data": {
      "text/html": [
       "<style>#sk-container-id-1 {color: black;background-color: white;}#sk-container-id-1 pre{padding: 0;}#sk-container-id-1 div.sk-toggleable {background-color: white;}#sk-container-id-1 label.sk-toggleable__label {cursor: pointer;display: block;width: 100%;margin-bottom: 0;padding: 0.3em;box-sizing: border-box;text-align: center;}#sk-container-id-1 label.sk-toggleable__label-arrow:before {content: \"▸\";float: left;margin-right: 0.25em;color: #696969;}#sk-container-id-1 label.sk-toggleable__label-arrow:hover:before {color: black;}#sk-container-id-1 div.sk-estimator:hover label.sk-toggleable__label-arrow:before {color: black;}#sk-container-id-1 div.sk-toggleable__content {max-height: 0;max-width: 0;overflow: hidden;text-align: left;background-color: #f0f8ff;}#sk-container-id-1 div.sk-toggleable__content pre {margin: 0.2em;color: black;border-radius: 0.25em;background-color: #f0f8ff;}#sk-container-id-1 input.sk-toggleable__control:checked~div.sk-toggleable__content {max-height: 200px;max-width: 100%;overflow: auto;}#sk-container-id-1 input.sk-toggleable__control:checked~label.sk-toggleable__label-arrow:before {content: \"▾\";}#sk-container-id-1 div.sk-estimator input.sk-toggleable__control:checked~label.sk-toggleable__label {background-color: #d4ebff;}#sk-container-id-1 div.sk-label input.sk-toggleable__control:checked~label.sk-toggleable__label {background-color: #d4ebff;}#sk-container-id-1 input.sk-hidden--visually {border: 0;clip: rect(1px 1px 1px 1px);clip: rect(1px, 1px, 1px, 1px);height: 1px;margin: -1px;overflow: hidden;padding: 0;position: absolute;width: 1px;}#sk-container-id-1 div.sk-estimator {font-family: monospace;background-color: #f0f8ff;border: 1px dotted black;border-radius: 0.25em;box-sizing: border-box;margin-bottom: 0.5em;}#sk-container-id-1 div.sk-estimator:hover {background-color: #d4ebff;}#sk-container-id-1 div.sk-parallel-item::after {content: \"\";width: 100%;border-bottom: 1px solid gray;flex-grow: 1;}#sk-container-id-1 div.sk-label:hover label.sk-toggleable__label {background-color: #d4ebff;}#sk-container-id-1 div.sk-serial::before {content: \"\";position: absolute;border-left: 1px solid gray;box-sizing: border-box;top: 0;bottom: 0;left: 50%;z-index: 0;}#sk-container-id-1 div.sk-serial {display: flex;flex-direction: column;align-items: center;background-color: white;padding-right: 0.2em;padding-left: 0.2em;position: relative;}#sk-container-id-1 div.sk-item {position: relative;z-index: 1;}#sk-container-id-1 div.sk-parallel {display: flex;align-items: stretch;justify-content: center;background-color: white;position: relative;}#sk-container-id-1 div.sk-item::before, #sk-container-id-1 div.sk-parallel-item::before {content: \"\";position: absolute;border-left: 1px solid gray;box-sizing: border-box;top: 0;bottom: 0;left: 50%;z-index: -1;}#sk-container-id-1 div.sk-parallel-item {display: flex;flex-direction: column;z-index: 1;position: relative;background-color: white;}#sk-container-id-1 div.sk-parallel-item:first-child::after {align-self: flex-end;width: 50%;}#sk-container-id-1 div.sk-parallel-item:last-child::after {align-self: flex-start;width: 50%;}#sk-container-id-1 div.sk-parallel-item:only-child::after {width: 0;}#sk-container-id-1 div.sk-dashed-wrapped {border: 1px dashed gray;margin: 0 0.4em 0.5em 0.4em;box-sizing: border-box;padding-bottom: 0.4em;background-color: white;}#sk-container-id-1 div.sk-label label {font-family: monospace;font-weight: bold;display: inline-block;line-height: 1.2em;}#sk-container-id-1 div.sk-label-container {text-align: center;}#sk-container-id-1 div.sk-container {/* jupyter's `normalize.less` sets `[hidden] { display: none; }` but bootstrap.min.css set `[hidden] { display: none !important; }` so we also need the `!important` here to be able to override the default hidden behavior on the sphinx rendered scikit-learn.org. See: https://github.com/scikit-learn/scikit-learn/issues/21755 */display: inline-block !important;position: relative;}#sk-container-id-1 div.sk-text-repr-fallback {display: none;}</style><div id=\"sk-container-id-1\" class=\"sk-top-container\"><div class=\"sk-text-repr-fallback\"><pre>Pipeline(memory=Memory(location=None),\n",
       "         steps=[(&#x27;numerical_imputer&#x27;,\n",
       "                 TransformerWrapper(exclude=None,\n",
       "                                    include=[&#x27;lat&#x27;, &#x27;lon&#x27;, &#x27;minutes_remaining&#x27;,\n",
       "                                             &#x27;period&#x27;, &#x27;playoffs&#x27;,\n",
       "                                             &#x27;shot_distance&#x27;],\n",
       "                                    transformer=SimpleImputer(add_indicator=False,\n",
       "                                                              copy=True,\n",
       "                                                              fill_value=None,\n",
       "                                                              keep_empty_features=False,\n",
       "                                                              missing_values=nan,\n",
       "                                                              strategy=&#x27;mean&#x27;,\n",
       "                                                              verbose=&#x27;deprecated&#x27;))),\n",
       "                (&#x27;categorical_imp...\n",
       "                 TransformerWrapper(exclude=None, include=None,\n",
       "                                    transformer=StandardScaler(copy=True,\n",
       "                                                               with_mean=True,\n",
       "                                                               with_std=True))),\n",
       "                (&#x27;actual_estimator&#x27;,\n",
       "                 LogisticRegression(C=9.154, class_weight=&#x27;balanced&#x27;,\n",
       "                                    dual=False, fit_intercept=True,\n",
       "                                    intercept_scaling=1, l1_ratio=None,\n",
       "                                    max_iter=1000, multi_class=&#x27;auto&#x27;,\n",
       "                                    n_jobs=None, penalty=&#x27;l2&#x27;, random_state=908,\n",
       "                                    solver=&#x27;lbfgs&#x27;, tol=0.0001, verbose=0,\n",
       "                                    warm_start=False))],\n",
       "         verbose=False)</pre><b>In a Jupyter environment, please rerun this cell to show the HTML representation or trust the notebook. <br />On GitHub, the HTML representation is unable to render, please try loading this page with nbviewer.org.</b></div><div class=\"sk-container\" hidden><div class=\"sk-item sk-dashed-wrapped\"><div class=\"sk-label-container\"><div class=\"sk-label sk-toggleable\"><input class=\"sk-toggleable__control sk-hidden--visually\" id=\"sk-estimator-id-1\" type=\"checkbox\" ><label for=\"sk-estimator-id-1\" class=\"sk-toggleable__label sk-toggleable__label-arrow\">Pipeline</label><div class=\"sk-toggleable__content\"><pre>Pipeline(memory=Memory(location=None),\n",
       "         steps=[(&#x27;numerical_imputer&#x27;,\n",
       "                 TransformerWrapper(exclude=None,\n",
       "                                    include=[&#x27;lat&#x27;, &#x27;lon&#x27;, &#x27;minutes_remaining&#x27;,\n",
       "                                             &#x27;period&#x27;, &#x27;playoffs&#x27;,\n",
       "                                             &#x27;shot_distance&#x27;],\n",
       "                                    transformer=SimpleImputer(add_indicator=False,\n",
       "                                                              copy=True,\n",
       "                                                              fill_value=None,\n",
       "                                                              keep_empty_features=False,\n",
       "                                                              missing_values=nan,\n",
       "                                                              strategy=&#x27;mean&#x27;,\n",
       "                                                              verbose=&#x27;deprecated&#x27;))),\n",
       "                (&#x27;categorical_imp...\n",
       "                 TransformerWrapper(exclude=None, include=None,\n",
       "                                    transformer=StandardScaler(copy=True,\n",
       "                                                               with_mean=True,\n",
       "                                                               with_std=True))),\n",
       "                (&#x27;actual_estimator&#x27;,\n",
       "                 LogisticRegression(C=9.154, class_weight=&#x27;balanced&#x27;,\n",
       "                                    dual=False, fit_intercept=True,\n",
       "                                    intercept_scaling=1, l1_ratio=None,\n",
       "                                    max_iter=1000, multi_class=&#x27;auto&#x27;,\n",
       "                                    n_jobs=None, penalty=&#x27;l2&#x27;, random_state=908,\n",
       "                                    solver=&#x27;lbfgs&#x27;, tol=0.0001, verbose=0,\n",
       "                                    warm_start=False))],\n",
       "         verbose=False)</pre></div></div></div><div class=\"sk-serial\"><div class=\"sk-item sk-dashed-wrapped\"><div class=\"sk-label-container\"><div class=\"sk-label sk-toggleable\"><input class=\"sk-toggleable__control sk-hidden--visually\" id=\"sk-estimator-id-2\" type=\"checkbox\" ><label for=\"sk-estimator-id-2\" class=\"sk-toggleable__label sk-toggleable__label-arrow\">numerical_imputer: TransformerWrapper</label><div class=\"sk-toggleable__content\"><pre>TransformerWrapper(exclude=None,\n",
       "                   include=[&#x27;lat&#x27;, &#x27;lon&#x27;, &#x27;minutes_remaining&#x27;, &#x27;period&#x27;,\n",
       "                            &#x27;playoffs&#x27;, &#x27;shot_distance&#x27;],\n",
       "                   transformer=SimpleImputer(add_indicator=False, copy=True,\n",
       "                                             fill_value=None,\n",
       "                                             keep_empty_features=False,\n",
       "                                             missing_values=nan,\n",
       "                                             strategy=&#x27;mean&#x27;,\n",
       "                                             verbose=&#x27;deprecated&#x27;))</pre></div></div></div><div class=\"sk-parallel\"><div class=\"sk-parallel-item\"><div class=\"sk-item\"><div class=\"sk-label-container\"><div class=\"sk-label sk-toggleable\"><input class=\"sk-toggleable__control sk-hidden--visually\" id=\"sk-estimator-id-3\" type=\"checkbox\" ><label for=\"sk-estimator-id-3\" class=\"sk-toggleable__label sk-toggleable__label-arrow\">transformer: SimpleImputer</label><div class=\"sk-toggleable__content\"><pre>SimpleImputer()</pre></div></div></div><div class=\"sk-serial\"><div class=\"sk-item\"><div class=\"sk-estimator sk-toggleable\"><input class=\"sk-toggleable__control sk-hidden--visually\" id=\"sk-estimator-id-4\" type=\"checkbox\" ><label for=\"sk-estimator-id-4\" class=\"sk-toggleable__label sk-toggleable__label-arrow\">SimpleImputer</label><div class=\"sk-toggleable__content\"><pre>SimpleImputer()</pre></div></div></div></div></div></div></div></div><div class=\"sk-item sk-dashed-wrapped\"><div class=\"sk-label-container\"><div class=\"sk-label sk-toggleable\"><input class=\"sk-toggleable__control sk-hidden--visually\" id=\"sk-estimator-id-5\" type=\"checkbox\" ><label for=\"sk-estimator-id-5\" class=\"sk-toggleable__label sk-toggleable__label-arrow\">categorical_imputer: TransformerWrapper</label><div class=\"sk-toggleable__content\"><pre>TransformerWrapper(exclude=None, include=[],\n",
       "                   transformer=SimpleImputer(add_indicator=False, copy=True,\n",
       "                                             fill_value=None,\n",
       "                                             keep_empty_features=False,\n",
       "                                             missing_values=nan,\n",
       "                                             strategy=&#x27;most_frequent&#x27;,\n",
       "                                             verbose=&#x27;deprecated&#x27;))</pre></div></div></div><div class=\"sk-parallel\"><div class=\"sk-parallel-item\"><div class=\"sk-item\"><div class=\"sk-label-container\"><div class=\"sk-label sk-toggleable\"><input class=\"sk-toggleable__control sk-hidden--visually\" id=\"sk-estimator-id-6\" type=\"checkbox\" ><label for=\"sk-estimator-id-6\" class=\"sk-toggleable__label sk-toggleable__label-arrow\">transformer: SimpleImputer</label><div class=\"sk-toggleable__content\"><pre>SimpleImputer(strategy=&#x27;most_frequent&#x27;)</pre></div></div></div><div class=\"sk-serial\"><div class=\"sk-item\"><div class=\"sk-estimator sk-toggleable\"><input class=\"sk-toggleable__control sk-hidden--visually\" id=\"sk-estimator-id-7\" type=\"checkbox\" ><label for=\"sk-estimator-id-7\" class=\"sk-toggleable__label sk-toggleable__label-arrow\">SimpleImputer</label><div class=\"sk-toggleable__content\"><pre>SimpleImputer(strategy=&#x27;most_frequent&#x27;)</pre></div></div></div></div></div></div></div></div><div class=\"sk-item sk-dashed-wrapped\"><div class=\"sk-label-container\"><div class=\"sk-label sk-toggleable\"><input class=\"sk-toggleable__control sk-hidden--visually\" id=\"sk-estimator-id-8\" type=\"checkbox\" ><label for=\"sk-estimator-id-8\" class=\"sk-toggleable__label sk-toggleable__label-arrow\">normalize: TransformerWrapper</label><div class=\"sk-toggleable__content\"><pre>TransformerWrapper(exclude=None, include=None,\n",
       "                   transformer=StandardScaler(copy=True, with_mean=True,\n",
       "                                              with_std=True))</pre></div></div></div><div class=\"sk-parallel\"><div class=\"sk-parallel-item\"><div class=\"sk-item\"><div class=\"sk-label-container\"><div class=\"sk-label sk-toggleable\"><input class=\"sk-toggleable__control sk-hidden--visually\" id=\"sk-estimator-id-9\" type=\"checkbox\" ><label for=\"sk-estimator-id-9\" class=\"sk-toggleable__label sk-toggleable__label-arrow\">transformer: StandardScaler</label><div class=\"sk-toggleable__content\"><pre>StandardScaler()</pre></div></div></div><div class=\"sk-serial\"><div class=\"sk-item\"><div class=\"sk-estimator sk-toggleable\"><input class=\"sk-toggleable__control sk-hidden--visually\" id=\"sk-estimator-id-10\" type=\"checkbox\" ><label for=\"sk-estimator-id-10\" class=\"sk-toggleable__label sk-toggleable__label-arrow\">StandardScaler</label><div class=\"sk-toggleable__content\"><pre>StandardScaler()</pre></div></div></div></div></div></div></div></div><div class=\"sk-item\"><div class=\"sk-estimator sk-toggleable\"><input class=\"sk-toggleable__control sk-hidden--visually\" id=\"sk-estimator-id-11\" type=\"checkbox\" ><label for=\"sk-estimator-id-11\" class=\"sk-toggleable__label sk-toggleable__label-arrow\">LogisticRegression</label><div class=\"sk-toggleable__content\"><pre>LogisticRegression(C=9.154, class_weight=&#x27;balanced&#x27;, max_iter=1000,\n",
       "                   random_state=908)</pre></div></div></div></div></div></div></div>"
      ],
      "text/plain": [
       "Pipeline(memory=Memory(location=None),\n",
       "         steps=[('numerical_imputer',\n",
       "                 TransformerWrapper(exclude=None,\n",
       "                                    include=['lat', 'lon', 'minutes_remaining',\n",
       "                                             'period', 'playoffs',\n",
       "                                             'shot_distance'],\n",
       "                                    transformer=SimpleImputer(add_indicator=False,\n",
       "                                                              copy=True,\n",
       "                                                              fill_value=None,\n",
       "                                                              keep_empty_features=False,\n",
       "                                                              missing_values=nan,\n",
       "                                                              strategy='mean',\n",
       "                                                              verbose='deprecated'))),\n",
       "                ('categorical_imp...\n",
       "                 TransformerWrapper(exclude=None, include=None,\n",
       "                                    transformer=StandardScaler(copy=True,\n",
       "                                                               with_mean=True,\n",
       "                                                               with_std=True))),\n",
       "                ('actual_estimator',\n",
       "                 LogisticRegression(C=9.154, class_weight='balanced',\n",
       "                                    dual=False, fit_intercept=True,\n",
       "                                    intercept_scaling=1, l1_ratio=None,\n",
       "                                    max_iter=1000, multi_class='auto',\n",
       "                                    n_jobs=None, penalty='l2', random_state=908,\n",
       "                                    solver='lbfgs', tol=0.0001, verbose=0,\n",
       "                                    warm_start=False))],\n",
       "         verbose=False)"
      ]
     },
     "execution_count": 194,
     "metadata": {},
     "output_type": "execute_result"
    }
   ],
   "source": [
    "final_model"
   ]
  },
  {
   "cell_type": "code",
   "execution_count": null,
   "id": "45270a36-3512-4f98-b721-8f71fd431019",
   "metadata": {},
   "outputs": [],
   "source": []
  },
  {
   "cell_type": "code",
   "execution_count": null,
   "id": "4c6f7b7e-7f9d-48a4-a58e-ef22575ffc97",
   "metadata": {},
   "outputs": [],
   "source": []
  },
  {
   "cell_type": "code",
   "execution_count": null,
   "id": "17d1655f-078f-41a9-806e-a37f24c718db",
   "metadata": {},
   "outputs": [],
   "source": []
  },
  {
   "cell_type": "markdown",
   "id": "48d0b4dc-1411-467e-bdef-3ae3f845f1af",
   "metadata": {},
   "source": [
    "# Reset do estilo de cores do matplotlib "
   ]
  },
  {
   "cell_type": "code",
   "execution_count": 6,
   "id": "24f04ba0-12d0-4d2a-9c52-6b46688eefd8",
   "metadata": {
    "tags": []
   },
   "outputs": [],
   "source": []
  },
  {
   "cell_type": "markdown",
   "id": "32b91ffd-1985-4dff-855f-a98f4148c72d",
   "metadata": {},
   "source": [
    "# Detalhamento dos passos do projeto\n"
   ]
  },
  {
   "cell_type": "code",
   "execution_count": 8,
   "id": "b0b0b307-ab08-48cc-8a86-6ad47b88c2af",
   "metadata": {
    "tags": []
   },
   "outputs": [],
   "source": []
  },
  {
   "cell_type": "markdown",
   "id": "c5e76f04-9523-4421-a615-9e2dc7049ac6",
   "metadata": {
    "tags": []
   },
   "source": [
    "# Experimento de Classificação de Lançamentos"
   ]
  },
  {
   "cell_type": "code",
   "execution_count": 20,
   "id": "7fa6b498-e628-4e41-a637-84c740a944a0",
   "metadata": {
    "tags": []
   },
   "outputs": [],
   "source": []
  },
  {
   "cell_type": "markdown",
   "id": "7d1ac9d2-da04-47f1-a28b-07b62405dbfd",
   "metadata": {},
   "source": [
    "# Leitura dos Dados de Classificação de Lançamentos "
   ]
  },
  {
   "cell_type": "code",
   "execution_count": null,
   "id": "343cc693-1a2b-4b5e-b2c6-666f84441e64",
   "metadata": {},
   "outputs": [],
   "source": []
  }
 ],
 "metadata": {
  "kernelspec": {
   "display_name": "Python (ml_eng)",
   "language": "python",
   "name": "ml_eng"
  },
  "language_info": {
   "codemirror_mode": {
    "name": "ipython",
    "version": 3
   },
   "file_extension": ".py",
   "mimetype": "text/x-python",
   "name": "python",
   "nbconvert_exporter": "python",
   "pygments_lexer": "ipython3",
   "version": "3.10.14"
  }
 },
 "nbformat": 4,
 "nbformat_minor": 5
}
