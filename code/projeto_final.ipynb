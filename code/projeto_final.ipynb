{
 "cells": [
  {
   "cell_type": "code",
   "execution_count": 117,
   "id": "dfb40e38-615d-4a25-8090-b0de9bd1271b",
   "metadata": {
    "tags": []
   },
   "outputs": [],
   "source": [
    "import os\n",
    "\n",
    "import pandas as pd\n",
    "import numpy as np\n",
    "\n",
    "import matplotlib.pyplot as plot\n",
    "import pycaret.classification as pycaret_classification\n",
    "import mlflow\n",
    "\n",
    "from sklearn.model_selection import train_test_split, validation_curve\n",
    "from sklearn.metrics import log_loss, f1_score\n",
    "\n"
   ]
  },
  {
   "cell_type": "markdown",
   "id": "0493d2de-7d6f-42a0-a2ef-a52af5345507",
   "metadata": {},
   "source": [
    "# Configurar o MLFLOW"
   ]
  },
  {
   "cell_type": "code",
   "execution_count": 166,
   "id": "4a622709-2d83-48a9-ab48-fdfa56be0e93",
   "metadata": {},
   "outputs": [
    {
     "data": {
      "text/plain": [
       "<Experiment: artifact_location='/Users/rafael/dev/workspaces/infnet/pos-ai/machine-learning-engeneering/projeto-final-ml-eng/code/mlruns/1', creation_time=1712428469138, experiment_id='1', last_update_time=1712428469138, lifecycle_stage='active', name='Lançamentos do Kobe Bryant', tags={}>"
      ]
     },
     "execution_count": 166,
     "metadata": {},
     "output_type": "execute_result"
    }
   ],
   "source": [
    "# Para usar o sqlite como repositorio\n",
    "mlflow.set_tracking_uri(\"sqlite:///mlruns.db\")\n",
    "\n",
    "experiment_name = 'Lançamentos do Kobe Bryant'\n",
    "experiment = mlflow.get_experiment_by_name(experiment_name)\n",
    "if experiment is None:\n",
    "    experiment_id = mlflow.create_experiment(experiment_name)\n",
    "    experiment = mlflow.get_experiment(experiment_id)\n",
    "experiment_id = experiment.experiment_id\n",
    "mlflow.set_experiment(experiment_name)"
   ]
  },
  {
   "cell_type": "markdown",
   "id": "a2d23fa4-5e4a-4dcf-b1ae-670d50c29252",
   "metadata": {},
   "source": [
    "# Preparação e análise do experimento"
   ]
  },
  {
   "cell_type": "markdown",
   "id": "bddb8c01-edaa-4965-8a78-fec173216a81",
   "metadata": {},
   "source": [
    "## Processa os dados de entrada"
   ]
  },
  {
   "cell_type": "code",
   "execution_count": 168,
   "id": "5d921e96-0466-4b97-866b-5e7a5ca1555a",
   "metadata": {
    "tags": []
   },
   "outputs": [],
   "source": [
    "# Essas são as colunas que serão usadas nos experimentos a seguir\n",
    "colunas = ['lat','lon','minutes_remaining', 'period', 'playoffs', 'shot_distance', 'shot_made_flag']\n",
    "colunas_sem_alvo = ['lat','lon','minutes_remaining', 'period', 'playoffs', 'shot_distance']\n",
    "coluna_alvo= 'shot_made_flag'\n",
    "\n",
    "percentual_treinamento = 0.8\n",
    "\n",
    "#Começa o experimento\n",
    "with mlflow.start_run(experiment_id=experiment_id, run_name = 'PreparacaoDados', nested=True):  \n",
    "    dataframe_dev = pd.read_parquet('../data/raw/dataset_kobe_dev.parquet')\n",
    "\n",
    "    # Remove as linhas com campos nulos e copia o dataframe resultante selecionando apenas as colunas importantes para o experimento.\n",
    "    dataframe_dev = dataframe_dev.dropna()\n",
    "    dataframe_dev = dataframe_dev[colunas].copy()\n",
    "\n",
    "    dataframe_dev.to_parquet('../data/processed/data_filtered.parquet')\n",
    "\n",
    "    xtrain, xtest, ytrain, ytest = train_test_split(dataframe_dev[colunas_sem_alvo], \n",
    "                                                    dataframe_dev[coluna_alvo], \n",
    "                                                    train_size=percentual_treinamento, \n",
    "                                                    stratify=dataframe_dev[coluna_alvo]\n",
    "                                                   )\n",
    "\n",
    "    xtrain[coluna_alvo] = ytrain\n",
    "    xtest[coluna_alvo] = ytest\n",
    "\n",
    "    # Exporta bases de treino e teste\n",
    "    xtrain.to_parquet('../data/processed/base_train.parquet')\n",
    "    xtest.to_parquet('../data/processed/base_test.parquet')\n",
    "    \n",
    "    mlflow.log_params({\n",
    "        'percentual_teste': 1-percentual_treinamento,\n",
    "        'colunas-selecionadas': colunas\n",
    "    })\n",
    "    mlflow.log_metrics({\n",
    "        'quantidade_linhas_treino': xtrain.shape[0],\n",
    "        'quantidade_linhas_teste': xtest.shape[0]\n",
    "    })\n",
    "    \n",
    "mlflow_run = mlflow.active_run()\n"
   ]
  },
  {
   "cell_type": "markdown",
   "id": "2f20a2d6-43a1-4e60-ba8e-454692262e38",
   "metadata": {},
   "source": [
    "## Configura o pycaret"
   ]
  },
  {
   "cell_type": "code",
   "execution_count": 170,
   "id": "e9b2e56e-5ec7-493f-89ae-a42bf3063b6a",
   "metadata": {
    "tags": []
   },
   "outputs": [
    {
     "data": {
      "text/html": [
       "<style type=\"text/css\">\n",
       "#T_fd6a9_row8_col1, #T_fd6a9_row12_col1 {\n",
       "  background-color: lightgreen;\n",
       "}\n",
       "</style>\n",
       "<table id=\"T_fd6a9\">\n",
       "  <thead>\n",
       "    <tr>\n",
       "      <th class=\"blank level0\" >&nbsp;</th>\n",
       "      <th id=\"T_fd6a9_level0_col0\" class=\"col_heading level0 col0\" >Description</th>\n",
       "      <th id=\"T_fd6a9_level0_col1\" class=\"col_heading level0 col1\" >Value</th>\n",
       "    </tr>\n",
       "  </thead>\n",
       "  <tbody>\n",
       "    <tr>\n",
       "      <th id=\"T_fd6a9_level0_row0\" class=\"row_heading level0 row0\" >0</th>\n",
       "      <td id=\"T_fd6a9_row0_col0\" class=\"data row0 col0\" >Session id</td>\n",
       "      <td id=\"T_fd6a9_row0_col1\" class=\"data row0 col1\" >908</td>\n",
       "    </tr>\n",
       "    <tr>\n",
       "      <th id=\"T_fd6a9_level0_row1\" class=\"row_heading level0 row1\" >1</th>\n",
       "      <td id=\"T_fd6a9_row1_col0\" class=\"data row1 col0\" >Target</td>\n",
       "      <td id=\"T_fd6a9_row1_col1\" class=\"data row1 col1\" >shot_made_flag</td>\n",
       "    </tr>\n",
       "    <tr>\n",
       "      <th id=\"T_fd6a9_level0_row2\" class=\"row_heading level0 row2\" >2</th>\n",
       "      <td id=\"T_fd6a9_row2_col0\" class=\"data row2 col0\" >Target type</td>\n",
       "      <td id=\"T_fd6a9_row2_col1\" class=\"data row2 col1\" >Binary</td>\n",
       "    </tr>\n",
       "    <tr>\n",
       "      <th id=\"T_fd6a9_level0_row3\" class=\"row_heading level0 row3\" >3</th>\n",
       "      <td id=\"T_fd6a9_row3_col0\" class=\"data row3 col0\" >Original data shape</td>\n",
       "      <td id=\"T_fd6a9_row3_col1\" class=\"data row3 col1\" >(20285, 7)</td>\n",
       "    </tr>\n",
       "    <tr>\n",
       "      <th id=\"T_fd6a9_level0_row4\" class=\"row_heading level0 row4\" >4</th>\n",
       "      <td id=\"T_fd6a9_row4_col0\" class=\"data row4 col0\" >Transformed data shape</td>\n",
       "      <td id=\"T_fd6a9_row4_col1\" class=\"data row4 col1\" >(20285, 7)</td>\n",
       "    </tr>\n",
       "    <tr>\n",
       "      <th id=\"T_fd6a9_level0_row5\" class=\"row_heading level0 row5\" >5</th>\n",
       "      <td id=\"T_fd6a9_row5_col0\" class=\"data row5 col0\" >Transformed train set shape</td>\n",
       "      <td id=\"T_fd6a9_row5_col1\" class=\"data row5 col1\" >(16228, 7)</td>\n",
       "    </tr>\n",
       "    <tr>\n",
       "      <th id=\"T_fd6a9_level0_row6\" class=\"row_heading level0 row6\" >6</th>\n",
       "      <td id=\"T_fd6a9_row6_col0\" class=\"data row6 col0\" >Transformed test set shape</td>\n",
       "      <td id=\"T_fd6a9_row6_col1\" class=\"data row6 col1\" >(4057, 7)</td>\n",
       "    </tr>\n",
       "    <tr>\n",
       "      <th id=\"T_fd6a9_level0_row7\" class=\"row_heading level0 row7\" >7</th>\n",
       "      <td id=\"T_fd6a9_row7_col0\" class=\"data row7 col0\" >Numeric features</td>\n",
       "      <td id=\"T_fd6a9_row7_col1\" class=\"data row7 col1\" >6</td>\n",
       "    </tr>\n",
       "    <tr>\n",
       "      <th id=\"T_fd6a9_level0_row8\" class=\"row_heading level0 row8\" >8</th>\n",
       "      <td id=\"T_fd6a9_row8_col0\" class=\"data row8 col0\" >Preprocess</td>\n",
       "      <td id=\"T_fd6a9_row8_col1\" class=\"data row8 col1\" >True</td>\n",
       "    </tr>\n",
       "    <tr>\n",
       "      <th id=\"T_fd6a9_level0_row9\" class=\"row_heading level0 row9\" >9</th>\n",
       "      <td id=\"T_fd6a9_row9_col0\" class=\"data row9 col0\" >Imputation type</td>\n",
       "      <td id=\"T_fd6a9_row9_col1\" class=\"data row9 col1\" >simple</td>\n",
       "    </tr>\n",
       "    <tr>\n",
       "      <th id=\"T_fd6a9_level0_row10\" class=\"row_heading level0 row10\" >10</th>\n",
       "      <td id=\"T_fd6a9_row10_col0\" class=\"data row10 col0\" >Numeric imputation</td>\n",
       "      <td id=\"T_fd6a9_row10_col1\" class=\"data row10 col1\" >mean</td>\n",
       "    </tr>\n",
       "    <tr>\n",
       "      <th id=\"T_fd6a9_level0_row11\" class=\"row_heading level0 row11\" >11</th>\n",
       "      <td id=\"T_fd6a9_row11_col0\" class=\"data row11 col0\" >Categorical imputation</td>\n",
       "      <td id=\"T_fd6a9_row11_col1\" class=\"data row11 col1\" >mode</td>\n",
       "    </tr>\n",
       "    <tr>\n",
       "      <th id=\"T_fd6a9_level0_row12\" class=\"row_heading level0 row12\" >12</th>\n",
       "      <td id=\"T_fd6a9_row12_col0\" class=\"data row12 col0\" >Normalize</td>\n",
       "      <td id=\"T_fd6a9_row12_col1\" class=\"data row12 col1\" >True</td>\n",
       "    </tr>\n",
       "    <tr>\n",
       "      <th id=\"T_fd6a9_level0_row13\" class=\"row_heading level0 row13\" >13</th>\n",
       "      <td id=\"T_fd6a9_row13_col0\" class=\"data row13 col0\" >Normalize method</td>\n",
       "      <td id=\"T_fd6a9_row13_col1\" class=\"data row13 col1\" >zscore</td>\n",
       "    </tr>\n",
       "    <tr>\n",
       "      <th id=\"T_fd6a9_level0_row14\" class=\"row_heading level0 row14\" >14</th>\n",
       "      <td id=\"T_fd6a9_row14_col0\" class=\"data row14 col0\" >Fold Generator</td>\n",
       "      <td id=\"T_fd6a9_row14_col1\" class=\"data row14 col1\" >StratifiedKFold</td>\n",
       "    </tr>\n",
       "    <tr>\n",
       "      <th id=\"T_fd6a9_level0_row15\" class=\"row_heading level0 row15\" >15</th>\n",
       "      <td id=\"T_fd6a9_row15_col0\" class=\"data row15 col0\" >Fold Number</td>\n",
       "      <td id=\"T_fd6a9_row15_col1\" class=\"data row15 col1\" >10</td>\n",
       "    </tr>\n",
       "    <tr>\n",
       "      <th id=\"T_fd6a9_level0_row16\" class=\"row_heading level0 row16\" >16</th>\n",
       "      <td id=\"T_fd6a9_row16_col0\" class=\"data row16 col0\" >CPU Jobs</td>\n",
       "      <td id=\"T_fd6a9_row16_col1\" class=\"data row16 col1\" >-1</td>\n",
       "    </tr>\n",
       "    <tr>\n",
       "      <th id=\"T_fd6a9_level0_row17\" class=\"row_heading level0 row17\" >17</th>\n",
       "      <td id=\"T_fd6a9_row17_col0\" class=\"data row17 col0\" >Use GPU</td>\n",
       "      <td id=\"T_fd6a9_row17_col1\" class=\"data row17 col1\" >False</td>\n",
       "    </tr>\n",
       "    <tr>\n",
       "      <th id=\"T_fd6a9_level0_row18\" class=\"row_heading level0 row18\" >18</th>\n",
       "      <td id=\"T_fd6a9_row18_col0\" class=\"data row18 col0\" >Log Experiment</td>\n",
       "      <td id=\"T_fd6a9_row18_col1\" class=\"data row18 col1\" >False</td>\n",
       "    </tr>\n",
       "    <tr>\n",
       "      <th id=\"T_fd6a9_level0_row19\" class=\"row_heading level0 row19\" >19</th>\n",
       "      <td id=\"T_fd6a9_row19_col0\" class=\"data row19 col0\" >Experiment Name</td>\n",
       "      <td id=\"T_fd6a9_row19_col1\" class=\"data row19 col1\" >clf-default-name</td>\n",
       "    </tr>\n",
       "    <tr>\n",
       "      <th id=\"T_fd6a9_level0_row20\" class=\"row_heading level0 row20\" >20</th>\n",
       "      <td id=\"T_fd6a9_row20_col0\" class=\"data row20 col0\" >USI</td>\n",
       "      <td id=\"T_fd6a9_row20_col1\" class=\"data row20 col1\" >1de4</td>\n",
       "    </tr>\n",
       "  </tbody>\n",
       "</table>\n"
      ],
      "text/plain": [
       "<pandas.io.formats.style.Styler at 0x7fe560ac0c10>"
      ]
     },
     "metadata": {},
     "output_type": "display_data"
    },
    {
     "data": {
      "text/html": [],
      "text/plain": [
       "<IPython.core.display.HTML object>"
      ]
     },
     "metadata": {},
     "output_type": "display_data"
    },
    {
     "data": {
      "text/html": [
       "<style type=\"text/css\">\n",
       "#T_fafac th {\n",
       "  text-align: left;\n",
       "}\n",
       "#T_fafac_row0_col0, #T_fafac_row0_col3, #T_fafac_row0_col5, #T_fafac_row1_col0, #T_fafac_row1_col1, #T_fafac_row1_col2, #T_fafac_row1_col4, #T_fafac_row1_col6, #T_fafac_row1_col7 {\n",
       "  text-align: left;\n",
       "}\n",
       "#T_fafac_row0_col1, #T_fafac_row0_col2, #T_fafac_row0_col4, #T_fafac_row0_col6, #T_fafac_row0_col7, #T_fafac_row1_col3, #T_fafac_row1_col5 {\n",
       "  text-align: left;\n",
       "  background-color: yellow;\n",
       "}\n",
       "#T_fafac_row0_col8 {\n",
       "  text-align: left;\n",
       "  background-color: yellow;\n",
       "  background-color: lightgrey;\n",
       "}\n",
       "#T_fafac_row1_col8 {\n",
       "  text-align: left;\n",
       "  background-color: lightgrey;\n",
       "}\n",
       "</style>\n",
       "<table id=\"T_fafac\">\n",
       "  <thead>\n",
       "    <tr>\n",
       "      <th class=\"blank level0\" >&nbsp;</th>\n",
       "      <th id=\"T_fafac_level0_col0\" class=\"col_heading level0 col0\" >Model</th>\n",
       "      <th id=\"T_fafac_level0_col1\" class=\"col_heading level0 col1\" >Accuracy</th>\n",
       "      <th id=\"T_fafac_level0_col2\" class=\"col_heading level0 col2\" >AUC</th>\n",
       "      <th id=\"T_fafac_level0_col3\" class=\"col_heading level0 col3\" >Recall</th>\n",
       "      <th id=\"T_fafac_level0_col4\" class=\"col_heading level0 col4\" >Prec.</th>\n",
       "      <th id=\"T_fafac_level0_col5\" class=\"col_heading level0 col5\" >F1</th>\n",
       "      <th id=\"T_fafac_level0_col6\" class=\"col_heading level0 col6\" >Kappa</th>\n",
       "      <th id=\"T_fafac_level0_col7\" class=\"col_heading level0 col7\" >MCC</th>\n",
       "      <th id=\"T_fafac_level0_col8\" class=\"col_heading level0 col8\" >TT (Sec)</th>\n",
       "    </tr>\n",
       "  </thead>\n",
       "  <tbody>\n",
       "    <tr>\n",
       "      <th id=\"T_fafac_level0_row0\" class=\"row_heading level0 row0\" >lr</th>\n",
       "      <td id=\"T_fafac_row0_col0\" class=\"data row0 col0\" >Logistic Regression</td>\n",
       "      <td id=\"T_fafac_row0_col1\" class=\"data row0 col1\" >0.5760</td>\n",
       "      <td id=\"T_fafac_row0_col2\" class=\"data row0 col2\" >0.5978</td>\n",
       "      <td id=\"T_fafac_row0_col3\" class=\"data row0 col3\" >0.4848</td>\n",
       "      <td id=\"T_fafac_row0_col4\" class=\"data row0 col4\" >0.5654</td>\n",
       "      <td id=\"T_fafac_row0_col5\" class=\"data row0 col5\" >0.5219</td>\n",
       "      <td id=\"T_fafac_row0_col6\" class=\"data row0 col6\" >0.1451</td>\n",
       "      <td id=\"T_fafac_row0_col7\" class=\"data row0 col7\" >0.1465</td>\n",
       "      <td id=\"T_fafac_row0_col8\" class=\"data row0 col8\" >0.0150</td>\n",
       "    </tr>\n",
       "    <tr>\n",
       "      <th id=\"T_fafac_level0_row1\" class=\"row_heading level0 row1\" >dt</th>\n",
       "      <td id=\"T_fafac_row1_col0\" class=\"data row1 col0\" >Decision Tree Classifier</td>\n",
       "      <td id=\"T_fafac_row1_col1\" class=\"data row1 col1\" >0.5394</td>\n",
       "      <td id=\"T_fafac_row1_col2\" class=\"data row1 col2\" >0.5208</td>\n",
       "      <td id=\"T_fafac_row1_col3\" class=\"data row1 col3\" >0.5750</td>\n",
       "      <td id=\"T_fafac_row1_col4\" class=\"data row1 col4\" >0.5158</td>\n",
       "      <td id=\"T_fafac_row1_col5\" class=\"data row1 col5\" >0.5437</td>\n",
       "      <td id=\"T_fafac_row1_col6\" class=\"data row1 col6\" >0.0814</td>\n",
       "      <td id=\"T_fafac_row1_col7\" class=\"data row1 col7\" >0.0820</td>\n",
       "      <td id=\"T_fafac_row1_col8\" class=\"data row1 col8\" >0.1640</td>\n",
       "    </tr>\n",
       "  </tbody>\n",
       "</table>\n"
      ],
      "text/plain": [
       "<pandas.io.formats.style.Styler at 0x7fe570dec640>"
      ]
     },
     "metadata": {},
     "output_type": "display_data"
    },
    {
     "data": {
      "text/html": [],
      "text/plain": [
       "<IPython.core.display.HTML object>"
      ]
     },
     "metadata": {},
     "output_type": "display_data"
    },
    {
     "data": {
      "text/plain": [
       "[LogisticRegression(C=1.0, class_weight=None, dual=False, fit_intercept=True,\n",
       "                    intercept_scaling=1, l1_ratio=None, max_iter=1000,\n",
       "                    multi_class='auto', n_jobs=None, penalty='l2',\n",
       "                    random_state=908, solver='lbfgs', tol=0.0001, verbose=0,\n",
       "                    warm_start=False),\n",
       " DecisionTreeClassifier(ccp_alpha=0.0, class_weight=None, criterion='gini',\n",
       "                        max_depth=None, max_features=None, max_leaf_nodes=None,\n",
       "                        min_impurity_decrease=0.0, min_samples_leaf=1,\n",
       "                        min_samples_split=2, min_weight_fraction_leaf=0.0,\n",
       "                        random_state=908, splitter='best')]"
      ]
     },
     "execution_count": 170,
     "metadata": {},
     "output_type": "execute_result"
    }
   ],
   "source": [
    "# configura pycaret\n",
    "experiment = pycaret_classification.setup(\n",
    "    data = xtrain, \n",
    "    target = coluna_alvo, \n",
    "    test_data = xtest, \n",
    "    normalize = True, \n",
    "    log_experiment = False\n",
    ")\n",
    "\n",
    "# Os modelos utilizados são regressão logística (lr) e árvore de decisão (dt)\n",
    "modelos_utilizados = ['lr', 'dt']\n",
    "\n",
    "list_models = experiment.compare_models(modelos_utilizados, n_select = 2)\n",
    "\n",
    "list_models"
   ]
  },
  {
   "cell_type": "code",
   "execution_count": 172,
   "id": "2f94d089-5eb1-4094-8859-6dc64c61f6d8",
   "metadata": {
    "tags": []
   },
   "outputs": [
    {
     "data": {
      "text/html": [],
      "text/plain": [
       "<IPython.core.display.HTML object>"
      ]
     },
     "metadata": {},
     "output_type": "display_data"
    }
   ],
   "source": [
    "# plot com a validation curve \"vc\" e salva a imagem\n",
    "experiment.plot_model(list_models[0], plot='vc', save = True)\n",
    "\n",
    "# Cria função para plotar a calidation curve especificando o parametro\n",
    "def plot_parameter_validation_curve(X, Y, param_name, grid_search,\n",
    "                                    model, model_name, scoring,\n",
    "                                    logx):\n",
    "    print('Parameter:', param_name)\n",
    "    print('GridSearch:', grid_search[param_name])\n",
    "    print('Scoring:', scoring)\n",
    "    plot.figure(figsize=(6,4))\n",
    "    train_scores, test_scores = validation_curve(model,\n",
    "                                                 X = X, \n",
    "                                                 y = Y, \n",
    "                                                 param_name=param_name, \n",
    "                                                 param_range= grid_search[param_name],\n",
    "                                                 scoring=scoring,\n",
    "                                                 cv=10,\n",
    "                                                 n_jobs=-1)\n",
    "    train_scores_mean = np.mean(train_scores, axis=1)\n",
    "    train_scores_std = np.std(train_scores, axis=1)\n",
    "    test_scores_mean = np.mean(test_scores, axis=1)\n",
    "    test_scores_std = np.std(test_scores, axis=1)\n",
    "    plot.title(\"Curva Validação Modelo \" + model_name)\n",
    "    plot.xlabel(param_name)\n",
    "    plot.ylabel(\"Score (\"+scoring+\")\")\n",
    "    if logx:\n",
    "        plot.semilogx(grid_search[param_name], train_scores_mean,'-o', label=\"Treino\",\n",
    "                     color=\"darkorange\", lw=2)\n",
    "        plot.semilogx(grid_search[param_name], test_scores_mean,'-o', label=\"Validação-Cruzada\",\n",
    "                     color=\"navy\", lw=2)\n",
    "    else:\n",
    "        plot.plot(grid_search[param_name], train_scores_mean,'-o', label=\"Treino\",\n",
    "                     color=\"darkorange\", lw=2)\n",
    "        plot.plot(grid_search[param_name], test_scores_mean,'-o', label=\"Validação-Cruzada\",\n",
    "                 color=\"navy\", lw=2)\n",
    "    plot.fill_between(grid_search[param_name], train_scores_mean - train_scores_std,\n",
    "                     train_scores_mean + train_scores_std, alpha=0.2,\n",
    "                     color=\"darkorange\", lw=2)\n",
    "    plot.fill_between(grid_search[param_name], test_scores_mean - test_scores_std,\n",
    "                     test_scores_mean + test_scores_std, alpha=0.2,\n",
    "                     color=\"navy\", lw=2)\n",
    "    plot.legend(loc='best')\n",
    "    plot.grid(True)\n",
    "    \n",
    "    image = plot.gcf()\n",
    "    image_name = 'validation_curve' + '_' + model_name + '_' + param_name + '.png'\n",
    "    image.savefig(image_name, dpi=100)\n",
    "    plot.show()\n",
    "    return image_name\n"
   ]
  },
  {
   "cell_type": "markdown",
   "id": "4de3d307-ec57-47ca-b940-9dd6394b57d3",
   "metadata": {},
   "source": [
    "## Registra regressão logistica"
   ]
  },
  {
   "cell_type": "code",
   "execution_count": 173,
   "id": "45d099af-5bf1-4322-8382-ded4122a0d4c",
   "metadata": {
    "tags": []
   },
   "outputs": [
    {
     "data": {
      "text/html": [
       "<style type=\"text/css\">\n",
       "</style>\n",
       "<table id=\"T_65c35\">\n",
       "  <thead>\n",
       "    <tr>\n",
       "      <th class=\"blank level0\" >&nbsp;</th>\n",
       "      <th id=\"T_65c35_level0_col0\" class=\"col_heading level0 col0\" >Model</th>\n",
       "      <th id=\"T_65c35_level0_col1\" class=\"col_heading level0 col1\" >Accuracy</th>\n",
       "      <th id=\"T_65c35_level0_col2\" class=\"col_heading level0 col2\" >AUC</th>\n",
       "      <th id=\"T_65c35_level0_col3\" class=\"col_heading level0 col3\" >Recall</th>\n",
       "      <th id=\"T_65c35_level0_col4\" class=\"col_heading level0 col4\" >Prec.</th>\n",
       "      <th id=\"T_65c35_level0_col5\" class=\"col_heading level0 col5\" >F1</th>\n",
       "      <th id=\"T_65c35_level0_col6\" class=\"col_heading level0 col6\" >Kappa</th>\n",
       "      <th id=\"T_65c35_level0_col7\" class=\"col_heading level0 col7\" >MCC</th>\n",
       "    </tr>\n",
       "  </thead>\n",
       "  <tbody>\n",
       "    <tr>\n",
       "      <th id=\"T_65c35_level0_row0\" class=\"row_heading level0 row0\" >0</th>\n",
       "      <td id=\"T_65c35_row0_col0\" class=\"data row0 col0\" >Logistic Regression</td>\n",
       "      <td id=\"T_65c35_row0_col1\" class=\"data row0 col1\" >0.5807</td>\n",
       "      <td id=\"T_65c35_row0_col2\" class=\"data row0 col2\" >0.6023</td>\n",
       "      <td id=\"T_65c35_row0_col3\" class=\"data row0 col3\" >0.4992</td>\n",
       "      <td id=\"T_65c35_row0_col4\" class=\"data row0 col4\" >0.5695</td>\n",
       "      <td id=\"T_65c35_row0_col5\" class=\"data row0 col5\" >0.5320</td>\n",
       "      <td id=\"T_65c35_row0_col6\" class=\"data row0 col6\" >0.1552</td>\n",
       "      <td id=\"T_65c35_row0_col7\" class=\"data row0 col7\" >0.1563</td>\n",
       "    </tr>\n",
       "  </tbody>\n",
       "</table>\n"
      ],
      "text/plain": [
       "<pandas.io.formats.style.Styler at 0x7fe560ac3f40>"
      ]
     },
     "metadata": {},
     "output_type": "display_data"
    }
   ],
   "source": [
    "yhat_test = experiment.predict_model(list_models[0])"
   ]
  },
  {
   "cell_type": "code",
   "execution_count": 176,
   "id": "d69bb0ed-2573-4e45-b0ae-bcf84a3899f0",
   "metadata": {
    "tags": []
   },
   "outputs": [
    {
     "name": "stdout",
     "output_type": "stream",
     "text": [
      "Parameter: C\n",
      "GridSearch: [0.001, 0.01, 0.1, 1, 10]\n",
      "Scoring: f1\n"
     ]
    },
    {
     "data": {
      "image/png": "[encoded data removed]",
      "text/plain": [
       "<Figure size 600x400 with 1 Axes>"
      ]
     },
     "metadata": {},
     "output_type": "display_data"
    }
   ],
   "source": [
    "image_name = plot_parameter_validation_curve(xtrain.drop(coluna_alvo, axis=1), ytrain, 'C', {'C': [0.001, 0.01, 0.1, 1, 10]}, list_models[0], 'Regressão Logística', 'f1', logx=True)\n",
    "\n",
    "mlflow.log_artifact(image_name, run_id=mlflow_run.info.run_id)\n",
    "\n",
    "os.remove(image_name)\n",
    "\n",
    "mlflow.log_metrics({\n",
    "'lr_log_loss': log_loss(yhat_test.shot_made_flag, yhat_test.prediction_label),\n",
    "'lr_f1': f1_score(yhat_test.shot_made_flag, yhat_test.prediction_label)\n",
    "})"
   ]
  },
  {
   "cell_type": "markdown",
   "id": "9b856b35-8aea-4581-b613-923e04cf238f",
   "metadata": {
    "tags": []
   },
   "source": [
    "# Registra árvore de decisão"
   ]
  },
  {
   "cell_type": "code",
   "execution_count": 178,
   "id": "5694aba0-0f24-4d11-849d-4ce54a81c99c",
   "metadata": {
    "tags": []
   },
   "outputs": [
    {
     "data": {
      "text/html": [
       "<style type=\"text/css\">\n",
       "</style>\n",
       "<table id=\"T_5d25a\">\n",
       "  <thead>\n",
       "    <tr>\n",
       "      <th class=\"blank level0\" >&nbsp;</th>\n",
       "      <th id=\"T_5d25a_level0_col0\" class=\"col_heading level0 col0\" >Model</th>\n",
       "      <th id=\"T_5d25a_level0_col1\" class=\"col_heading level0 col1\" >Accuracy</th>\n",
       "      <th id=\"T_5d25a_level0_col2\" class=\"col_heading level0 col2\" >AUC</th>\n",
       "      <th id=\"T_5d25a_level0_col3\" class=\"col_heading level0 col3\" >Recall</th>\n",
       "      <th id=\"T_5d25a_level0_col4\" class=\"col_heading level0 col4\" >Prec.</th>\n",
       "      <th id=\"T_5d25a_level0_col5\" class=\"col_heading level0 col5\" >F1</th>\n",
       "      <th id=\"T_5d25a_level0_col6\" class=\"col_heading level0 col6\" >Kappa</th>\n",
       "      <th id=\"T_5d25a_level0_col7\" class=\"col_heading level0 col7\" >MCC</th>\n",
       "    </tr>\n",
       "  </thead>\n",
       "  <tbody>\n",
       "    <tr>\n",
       "      <th id=\"T_5d25a_level0_row0\" class=\"row_heading level0 row0\" >0</th>\n",
       "      <td id=\"T_5d25a_row0_col0\" class=\"data row0 col0\" >Decision Tree Classifier</td>\n",
       "      <td id=\"T_5d25a_row0_col1\" class=\"data row0 col1\" >0.5386</td>\n",
       "      <td id=\"T_5d25a_row0_col2\" class=\"data row0 col2\" >0.5173</td>\n",
       "      <td id=\"T_5d25a_row0_col3\" class=\"data row0 col3\" >0.5932</td>\n",
       "      <td id=\"T_5d25a_row0_col4\" class=\"data row0 col4\" >0.5146</td>\n",
       "      <td id=\"T_5d25a_row0_col5\" class=\"data row0 col5\" >0.5511</td>\n",
       "      <td id=\"T_5d25a_row0_col6\" class=\"data row0 col6\" >0.0813</td>\n",
       "      <td id=\"T_5d25a_row0_col7\" class=\"data row0 col7\" >0.0822</td>\n",
       "    </tr>\n",
       "  </tbody>\n",
       "</table>\n"
      ],
      "text/plain": [
       "<pandas.io.formats.style.Styler at 0x7fe531459960>"
      ]
     },
     "metadata": {},
     "output_type": "display_data"
    }
   ],
   "source": [
    "yhat_test = experiment.predict_model(list_models[1])"
   ]
  },
  {
   "cell_type": "code",
   "execution_count": 180,
   "id": "5e10b857-91ac-4500-b2d7-ffed2f725786",
   "metadata": {
    "tags": []
   },
   "outputs": [
    {
     "name": "stdout",
     "output_type": "stream",
     "text": [
      "Parameter: max_depth\n",
      "GridSearch: [2, 3, 4, 5, 6, 7, 8]\n",
      "Scoring: f1\n"
     ]
    },
    {
     "data": {
      "image/png": "[encoded data removed]",
      "text/plain": [
       "<Figure size 600x400 with 1 Axes>"
      ]
     },
     "metadata": {},
     "output_type": "display_data"
    }
   ],
   "source": [
    "image_name = plot_parameter_validation_curve(xtrain.drop(coluna_alvo, axis=1), ytrain, 'max_depth', {'max_depth': [2, 3, 4, 5, 6, 7, 8]}, list_models[1], 'Árvore de decisão', 'f1', logx=False)\n",
    "\n",
    "mlflow.log_artifact(image_name)\n",
    "\n",
    "os.remove(image_name)\n",
    "\n",
    "mlflow.log_metrics({\n",
    "'dt_log_loss': log_loss(yhat_test.shot_made_flag, yhat_test.prediction_label),\n",
    "'dt_f1': f1_score(yhat_test.shot_made_flag, yhat_test.prediction_label)\n",
    "})"
   ]
  },
  {
   "cell_type": "code",
   "execution_count": null,
   "id": "beb3f47b-d7c5-48bb-9d4f-7f81f2d41c67",
   "metadata": {},
   "outputs": [],
   "source": []
  },
  {
   "cell_type": "markdown",
   "id": "a4a34cd4-9249-456e-ada2-8f531ce10f4d",
   "metadata": {},
   "source": [
    "# Treinamento do modelo"
   ]
  },
  {
   "cell_type": "code",
   "execution_count": null,
   "id": "51625961-e62c-46c8-81ab-a3f5b4619b58",
   "metadata": {},
   "outputs": [],
   "source": []
  },
  {
   "cell_type": "code",
   "execution_count": 186,
   "id": "92a2fb87-0387-4679-bf50-d56fd3573c78",
   "metadata": {
    "tags": []
   },
   "outputs": [
    {
     "ename": "Exception",
     "evalue": "Run with UUID a6577835d02344908f27ee3d53f587b0 is already active. To start a new run, first end the current run with mlflow.end_run(). To start a nested run, call start_run with nested=True",
     "output_type": "error",
     "traceback": [
      "\u001b[0;31m---------------------------------------------------------------------------\u001b[0m",
      "\u001b[0;31mException\u001b[0m                                 Traceback (most recent call last)",
      "Cell \u001b[0;32mIn[186], line 1\u001b[0m\n\u001b[0;32m----> 1\u001b[0m \u001b[38;5;28;01mwith\u001b[39;00m \u001b[43mmlflow\u001b[49m\u001b[38;5;241;43m.\u001b[39;49m\u001b[43mstart_run\u001b[49m\u001b[43m(\u001b[49m\u001b[43mexperiment_id\u001b[49m\u001b[38;5;241;43m=\u001b[39;49m\u001b[43mexperiment_id\u001b[49m\u001b[43m,\u001b[49m\u001b[43m \u001b[49m\u001b[43mrun_name\u001b[49m\u001b[43m \u001b[49m\u001b[38;5;241;43m=\u001b[39;49m\u001b[43m \u001b[49m\u001b[38;5;124;43m'\u001b[39;49m\u001b[38;5;124;43mTreinamento\u001b[39;49m\u001b[38;5;124;43m'\u001b[39;49m\u001b[43m)\u001b[49m:\n\u001b[1;32m      2\u001b[0m     \u001b[38;5;66;03m# configura pycaret\u001b[39;00m\n\u001b[1;32m      3\u001b[0m     experiment \u001b[38;5;241m=\u001b[39m pycaret_classification\u001b[38;5;241m.\u001b[39msetup(\n\u001b[1;32m      4\u001b[0m         data \u001b[38;5;241m=\u001b[39m xtrain, \n\u001b[1;32m      5\u001b[0m         target \u001b[38;5;241m=\u001b[39m coluna_alvo, \n\u001b[0;32m   (...)\u001b[0m\n\u001b[1;32m      8\u001b[0m         log_experiment \u001b[38;5;241m=\u001b[39m \u001b[38;5;28;01mFalse\u001b[39;00m\n\u001b[1;32m      9\u001b[0m     )\n\u001b[1;32m     11\u001b[0m     \u001b[38;5;66;03m# Os modelos utilizados são regressão logística (lr) e árvore de decisão (dt)\u001b[39;00m\n",
      "File \u001b[0;32m/opt/anaconda3/envs/ml_eng/lib/python3.10/site-packages/mlflow/tracking/fluent.py:305\u001b[0m, in \u001b[0;36mstart_run\u001b[0;34m(run_id, experiment_id, run_name, nested, tags, description, log_system_metrics)\u001b[0m\n\u001b[1;32m    303\u001b[0m experiment_id \u001b[38;5;241m=\u001b[39m \u001b[38;5;28mstr\u001b[39m(experiment_id) \u001b[38;5;28;01mif\u001b[39;00m \u001b[38;5;28misinstance\u001b[39m(experiment_id, \u001b[38;5;28mint\u001b[39m) \u001b[38;5;28;01melse\u001b[39;00m experiment_id\n\u001b[1;32m    304\u001b[0m \u001b[38;5;28;01mif\u001b[39;00m \u001b[38;5;28mlen\u001b[39m(_active_run_stack) \u001b[38;5;241m>\u001b[39m \u001b[38;5;241m0\u001b[39m \u001b[38;5;129;01mand\u001b[39;00m \u001b[38;5;129;01mnot\u001b[39;00m nested:\n\u001b[0;32m--> 305\u001b[0m     \u001b[38;5;28;01mraise\u001b[39;00m \u001b[38;5;167;01mException\u001b[39;00m(\n\u001b[1;32m    306\u001b[0m         (\n\u001b[1;32m    307\u001b[0m             \u001b[38;5;124m\"\u001b[39m\u001b[38;5;124mRun with UUID \u001b[39m\u001b[38;5;132;01m{}\u001b[39;00m\u001b[38;5;124m is already active. To start a new run, first end the \u001b[39m\u001b[38;5;124m\"\u001b[39m\n\u001b[1;32m    308\u001b[0m             \u001b[38;5;241m+\u001b[39m \u001b[38;5;124m\"\u001b[39m\u001b[38;5;124mcurrent run with mlflow.end_run(). To start a nested \u001b[39m\u001b[38;5;124m\"\u001b[39m\n\u001b[1;32m    309\u001b[0m             \u001b[38;5;241m+\u001b[39m \u001b[38;5;124m\"\u001b[39m\u001b[38;5;124mrun, call start_run with nested=True\u001b[39m\u001b[38;5;124m\"\u001b[39m\n\u001b[1;32m    310\u001b[0m         )\u001b[38;5;241m.\u001b[39mformat(_active_run_stack[\u001b[38;5;241m0\u001b[39m]\u001b[38;5;241m.\u001b[39minfo\u001b[38;5;241m.\u001b[39mrun_id)\n\u001b[1;32m    311\u001b[0m     )\n\u001b[1;32m    312\u001b[0m client \u001b[38;5;241m=\u001b[39m MlflowClient()\n\u001b[1;32m    313\u001b[0m \u001b[38;5;28;01mif\u001b[39;00m run_id:\n",
      "\u001b[0;31mException\u001b[0m: Run with UUID a6577835d02344908f27ee3d53f587b0 is already active. To start a new run, first end the current run with mlflow.end_run(). To start a nested run, call start_run with nested=True"
     ]
    }
   ],
   "source": [
    "with mlflow.start_run(experiment_id=experiment_id, run_name = 'Treinamento'):\n",
    "    # configura pycaret\n",
    "    experiment = pycaret_classification.setup(\n",
    "        data = xtrain, \n",
    "        target = coluna_alvo, \n",
    "        test_data = xtest, \n",
    "        normalize = True, \n",
    "        log_experiment = False\n",
    "    )\n",
    "\n",
    "    # Os modelos utilizados são regressão logística (lr) e árvore de decisão (dt)\n",
    "    modelos_utilizados = ['lr', 'dt']\n",
    "\n",
    "    list_models = experiment.compare_models(modelos_utilizados, n_select = 2)\n",
    "\n",
    "    list_models\n",
    "    \n",
    "    # Regressão Logística\n",
    "    yhat_test = experiment.predict_model(list_models[0])\n",
    "    lr_image_name = plot_parameter_validation_curve(xtrain.drop(coluna_alvo, axis=1), ytrain, 'C', {'C': [0.001, 0.01, 0.1, 1, 10]}, list_models[0], 'Regressão Logística', 'f1', logx=True)\n",
    "\n",
    "    mlflow.log_artifact(lr_image_name, run_id=mlflow_run.info.run_id)\n",
    "\n",
    "    os.remove(lr_image_name)\n",
    "\n",
    "    mlflow.log_metrics({\n",
    "    'lr_log_loss': log_loss(yhat_test.shot_made_flag, yhat_test.prediction_label),\n",
    "    'lr_f1': f1_score(yhat_test.shot_made_flag, yhat_test.prediction_label)\n",
    "    })\n",
    "    \n",
    "    # Árvore de decisão\n",
    "    yhat_test = experiment.predict_model(list_models[1])\n",
    "    \n",
    "    dt_image_name = plot_parameter_validation_curve(xtrain.drop(coluna_alvo, axis=1), ytrain, 'max_depth', {'max_depth': [2, 3, 4, 5, 6, 7, 8]}, list_models[1], 'Árvore de decisão', 'f1', logx=False)\n",
    "\n",
    "    mlflow.log_artifact(dt_image_name)\n",
    "\n",
    "    os.remove(dt_image_name)\n",
    "\n",
    "    mlflow.log_metrics({\n",
    "    'dt_log_loss': log_loss(yhat_test.shot_made_flag, yhat_test.prediction_label),\n",
    "    'dt_f1': f1_score(yhat_test.shot_made_flag, yhat_test.prediction_label)\n",
    "    })\n",
    "    \n",
    "    # Finaliza o melhor modelo ( Regressão Logística)\n",
    "#    tune_model = experiment.tune_model(model)\n",
    "    \n",
    "    "
   ]
  },
  {
   "cell_type": "code",
   "execution_count": null,
   "id": "408bc48b-71e3-4f35-bf06-92ca84d474c7",
   "metadata": {},
   "outputs": [],
   "source": []
  },
  {
   "cell_type": "code",
   "execution_count": null,
   "id": "45270a36-3512-4f98-b721-8f71fd431019",
   "metadata": {},
   "outputs": [],
   "source": []
  },
  {
   "cell_type": "code",
   "execution_count": null,
   "id": "4c6f7b7e-7f9d-48a4-a58e-ef22575ffc97",
   "metadata": {},
   "outputs": [],
   "source": []
  },
  {
   "cell_type": "code",
   "execution_count": null,
   "id": "17d1655f-078f-41a9-806e-a37f24c718db",
   "metadata": {},
   "outputs": [],
   "source": []
  },
  {
   "cell_type": "markdown",
   "id": "48d0b4dc-1411-467e-bdef-3ae3f845f1af",
   "metadata": {},
   "source": [
    "# Reset do estilo de cores do matplotlib "
   ]
  },
  {
   "cell_type": "code",
   "execution_count": 6,
   "id": "24f04ba0-12d0-4d2a-9c52-6b46688eefd8",
   "metadata": {
    "tags": []
   },
   "outputs": [],
   "source": [
    "# reset matplotlib\n",
    "\n",
    "mpl.rcParams.update(inline_rc)\n",
    "font = {'size'   : 14}\n",
    "mpl.rc('font', **font)\n",
    "lines = {'linewidth' : 3}\n",
    "mpl.rc('lines', **lines)\n"
   ]
  },
  {
   "cell_type": "markdown",
   "id": "32b91ffd-1985-4dff-855f-a98f4148c72d",
   "metadata": {},
   "source": [
    "# Detalhamento dos passos do projeto\n"
   ]
  },
  {
   "cell_type": "code",
   "execution_count": 8,
   "id": "b0b0b307-ab08-48cc-8a86-6ad47b88c2af",
   "metadata": {
    "tags": []
   },
   "outputs": [],
   "source": [
    "registered_model_name = 'modelo_lancamento_kobe'\n",
    "min_precision = 0.7\n",
    "model_version = -1 # recuperar a ultima versao\n",
    "nexamples = 4"
   ]
  },
  {
   "cell_type": "markdown",
   "id": "c5e76f04-9523-4421-a615-9e2dc7049ac6",
   "metadata": {
    "tags": []
   },
   "source": [
    "# Experimento de Classificação de Lançamentos"
   ]
  },
  {
   "cell_type": "code",
   "execution_count": 20,
   "id": "7fa6b498-e628-4e41-a637-84c740a944a0",
   "metadata": {
    "tags": []
   },
   "outputs": [],
   "source": [
    "# Para usar o sqlite como repositorio\n",
    "mlflow.set_tracking_uri(\"sqlite:///mlruns.db\")\n",
    "\n",
    "experiment_name = 'Experimento de Lançamentos Kobe'\n",
    "experiment = mlflow.get_experiment_by_name(experiment_name)\n",
    "if experiment is None:\n",
    "    experiment_id = mlflow.create_experiment(experiment_name)\n",
    "    experiment = mlflow.get_experiment(experiment_id)\n",
    "experiment_id = experiment.experiment_id"
   ]
  },
  {
   "cell_type": "markdown",
   "id": "7d1ac9d2-da04-47f1-a28b-07b62405dbfd",
   "metadata": {},
   "source": [
    "# Leitura dos Dados de Classificação de Lançamentos "
   ]
  },
  {
   "cell_type": "code",
   "execution_count": null,
   "id": "343cc693-1a2b-4b5e-b2c6-666f84441e64",
   "metadata": {},
   "outputs": [],
   "source": [
    "# COLOCAR RUN DE LEITURA DE DADOS\n",
    "# PARAMETROS: top_features,\n",
    "# METRICS: SHAPE de cada base de dados\n",
    "# ARTIFACTS: nenhum\n",
    "\n",
    "top_features = ['lat','lon','minutes remaining', 'period', 'playoffs', 'shot_distance', 'shot_made_flag']\n",
    "\n",
    "with mlflow.start_run(experiment_id=experiment_id, run_name = 'PreparacaoDados'):\n",
    "    df_wine = pd.read_csv('../data/data.csv',sep=',')\n",
    "    shot_target_col = 'shot_made_flag'\n",
    "    wine_label_map = df_wine[['target', 'target_label']].drop_duplicates()\n",
    "    drop_cols = ['target_label']\n",
    "    df_wine.drop(drop_cols, axis=1, inplace=True)\n",
    "    df_wine = df_wine[top_features + ['type', shot_target_col]].copy()\n",
    "\n",
    "    data_wine = df_wine[df_wine['type'] == 'red'].copy().drop('type', axis=1)\n",
    "    # Separar parte para compor a base de operacao\n",
    "    data_wine, data_operation, ytrain, ytest = model_selection.train_test_split(data_wine, \n",
    "                                                                            data_wine[shot_target_col],\n",
    "                                                                            test_size=0.2)\n",
    "    data_wine[shot_target_col]      = ytrain\n",
    "    data_operation[shot_target_col] = ytest\n",
    "\n",
    "    # Base de vinhos brancos\n",
    "    data_novelty = df_wine[df_wine['type'] == 'white'].copy().drop('type', axis=1)\n",
    "\n",
    "    data_novelty.to_parquet('modelo_vinho_novidade.parquet')\n",
    "    data_operation.to_parquet('modelo_vinho_operacao.parquet')\n",
    "    \n",
    "    # LOG DE PARAMETROS DO MODELO\n",
    "    mlflow.log_param(\"top_features\", top_features)\n",
    "\n",
    "    # LOG DE METRICAS GLOBAIS\n",
    "    mlflow.log_metric(\"data_dev\", data_wine.shape[0])\n",
    "    mlflow.log_metric(\"data_operation\", data_operation.shape[0])\n",
    "    mlflow.log_metric(\"data_novelty\", data_novelty.shape[0])\n",
    "   \n",
    "    \n",
    "mlflow.end_run()\n",
    "\n",
    "print('== Bases de Dados ==')\n",
    "print(f'data_wine {data_wine.shape}')\n",
    "print(f'data_operation {data_operation.shape}')\n",
    "print(f'data_novelty {data_novelty.shape}')\n",
    "print(f'Columns: {data_wine.columns}')"
   ]
  }
 ],
 "metadata": {
  "kernelspec": {
   "display_name": "Python (ml_eng)",
   "language": "python",
   "name": "ml_eng"
  },
  "language_info": {
   "codemirror_mode": {
    "name": "ipython",
    "version": 3
   },
   "file_extension": ".py",
   "mimetype": "text/x-python",
   "name": "python",
   "nbconvert_exporter": "python",
   "pygments_lexer": "ipython3",
   "version": "3.10.14"
  }
 },
 "nbformat": 4,
 "nbformat_minor": 5
}
